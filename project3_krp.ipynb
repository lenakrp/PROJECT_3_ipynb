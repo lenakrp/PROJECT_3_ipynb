{
 "cells": [
  {
   "cell_type": "markdown",
   "metadata": {},
   "source": [
    "# ***PROJECT - 3 Анализ воронки. Крапеницкая Е.Х.***"
   ]
  },
  {
   "cell_type": "markdown",
   "metadata": {},
   "source": [
    "----------------------------------------------------------------------------------------------------------------------------------------------------------------------------------------------------------------------------------------------------"
   ]
  },
  {
   "cell_type": "markdown",
   "metadata": {},
   "source": [
    "## **Цель проекта:**"
   ]
  },
  {
   "cell_type": "markdown",
   "metadata": {},
   "source": [
    "**Исследовать поведение пользователей в обновлённом приложении мобильной игры \"Quiz Freeze\".**"
   ]
  },
  {
   "cell_type": "markdown",
   "metadata": {},
   "source": [
    "## **Задачи проекта:**"
   ]
  },
  {
   "cell_type": "markdown",
   "metadata": {},
   "source": [
    "1. Определить, насколько обучение сокращает время прохождения этапов игры."
   ]
  },
  {
   "cell_type": "markdown",
   "metadata": {},
   "source": [
    "2. Доказать, что успешное обучение само по себе влияет на оплату и не имеет значения то, каким этапом оно шло."
   ]
  },
  {
   "cell_type": "markdown",
   "metadata": {},
   "source": [
    "3. Определить, насколько прозрачен процесс взаимодействия с игрой."
   ]
  },
  {
   "cell_type": "markdown",
   "metadata": {},
   "source": [
    "## **Конкретные шаги (формализованные задачи)**"
   ]
  },
  {
   "cell_type": "markdown",
   "metadata": {},
   "source": [
    "1. Сравнить время прохождения различных этапов для пользователей, которые завершили обучение, и пользователей, не начинавших обучение. Если показатель отличается, выяснить, насколько."
   ]
  },
  {
   "cell_type": "markdown",
   "metadata": {},
   "source": [
    "2. Проверить, существует ли зависимость между вероятностью оплаты вопросов и количеством обучений, которые начинал или завершал пользователь. "
   ]
  },
  {
   "cell_type": "markdown",
   "metadata": {},
   "source": [
    "3. Выяснить, как часто пользователи начинают обучение после выбора уровня сложности. (Это позволит оценить прозрачность процесса взаимодействия с игрой: если пользователи после выбора уровня сложности обращаются к обучению, значит, работа с приложением непонятна.)"
   ]
  },
  {
   "cell_type": "markdown",
   "metadata": {},
   "source": [
    "----------------------------------------------------------------------------------------------------------------------------------------------------------------------------------------------------------------------------------------------------"
   ]
  },
  {
   "cell_type": "markdown",
   "metadata": {},
   "source": [
    "## **0. Сбор и обработка данных.**"
   ]
  },
  {
   "cell_type": "code",
   "execution_count": 2,
   "metadata": {},
   "outputs": [],
   "source": [
    "# Импортируем библиотеку Pandas.\n",
    "\n",
    "import pandas as pd "
   ]
  },
  {
   "cell_type": "markdown",
   "metadata": {},
   "source": [
    "### 0.1. Информация о событиях."
   ]
  },
  {
   "cell_type": "code",
   "execution_count": 3,
   "metadata": {},
   "outputs": [
    {
     "data": {
      "text/html": [
       "<div>\n",
       "<style scoped>\n",
       "    .dataframe tbody tr th:only-of-type {\n",
       "        vertical-align: middle;\n",
       "    }\n",
       "\n",
       "    .dataframe tbody tr th {\n",
       "        vertical-align: top;\n",
       "    }\n",
       "\n",
       "    .dataframe thead th {\n",
       "        text-align: right;\n",
       "    }\n",
       "</style>\n",
       "<table border=\"1\" class=\"dataframe\">\n",
       "  <thead>\n",
       "    <tr style=\"text-align: right;\">\n",
       "      <th></th>\n",
       "      <th>id</th>\n",
       "      <th>event_type</th>\n",
       "      <th>selected_level</th>\n",
       "      <th>start_time</th>\n",
       "      <th>tutorial_id</th>\n",
       "      <th>user_id</th>\n",
       "    </tr>\n",
       "  </thead>\n",
       "  <tbody>\n",
       "    <tr>\n",
       "      <th>0</th>\n",
       "      <td>28903</td>\n",
       "      <td>registration</td>\n",
       "      <td>NaN</td>\n",
       "      <td>2016-05-11T23:40:55</td>\n",
       "      <td>NaN</td>\n",
       "      <td>12583</td>\n",
       "    </tr>\n",
       "    <tr>\n",
       "      <th>1</th>\n",
       "      <td>28904</td>\n",
       "      <td>registration</td>\n",
       "      <td>NaN</td>\n",
       "      <td>2016-05-11T23:49:58</td>\n",
       "      <td>NaN</td>\n",
       "      <td>12584</td>\n",
       "    </tr>\n",
       "    <tr>\n",
       "      <th>2</th>\n",
       "      <td>28905</td>\n",
       "      <td>registration</td>\n",
       "      <td>NaN</td>\n",
       "      <td>2016-05-12T00:53:07</td>\n",
       "      <td>NaN</td>\n",
       "      <td>12585</td>\n",
       "    </tr>\n",
       "    <tr>\n",
       "      <th>3</th>\n",
       "      <td>28906</td>\n",
       "      <td>tutorial_start</td>\n",
       "      <td>NaN</td>\n",
       "      <td>2016-05-12T01:32:20</td>\n",
       "      <td>17562.0</td>\n",
       "      <td>12585</td>\n",
       "    </tr>\n",
       "    <tr>\n",
       "      <th>4</th>\n",
       "      <td>28907</td>\n",
       "      <td>tutorial_finish</td>\n",
       "      <td>NaN</td>\n",
       "      <td>2016-05-12T01:34:53</td>\n",
       "      <td>17562.0</td>\n",
       "      <td>12585</td>\n",
       "    </tr>\n",
       "  </tbody>\n",
       "</table>\n",
       "</div>"
      ],
      "text/plain": [
       "      id       event_type selected_level           start_time  tutorial_id  \\\n",
       "0  28903     registration            NaN  2016-05-11T23:40:55          NaN   \n",
       "1  28904     registration            NaN  2016-05-11T23:49:58          NaN   \n",
       "2  28905     registration            NaN  2016-05-12T00:53:07          NaN   \n",
       "3  28906   tutorial_start            NaN  2016-05-12T01:32:20      17562.0   \n",
       "4  28907  tutorial_finish            NaN  2016-05-12T01:34:53      17562.0   \n",
       "\n",
       "   user_id  \n",
       "0    12583  \n",
       "1    12584  \n",
       "2    12585  \n",
       "3    12585  \n",
       "4    12585  "
      ]
     },
     "execution_count": 3,
     "metadata": {},
     "output_type": "execute_result"
    }
   ],
   "source": [
    "# Считываем данные из CSV-файла c событиями(events) и знакомимся с ними.\n",
    "\n",
    "events_df = pd.read_csv('data/project3/Events.csv')\n",
    "events_df.head()"
   ]
  },
  {
   "cell_type": "code",
   "execution_count": 4,
   "metadata": {},
   "outputs": [
    {
     "name": "stdout",
     "output_type": "stream",
     "text": [
      "<class 'pandas.core.frame.DataFrame'>\n",
      "RangeIndex: 252334 entries, 0 to 252333\n",
      "Data columns (total 6 columns):\n",
      " #   Column          Non-Null Count   Dtype  \n",
      "---  ------          --------------   -----  \n",
      " 0   id              252334 non-null  int64  \n",
      " 1   event_type      252334 non-null  object \n",
      " 2   selected_level  31086 non-null   object \n",
      " 3   start_time      252334 non-null  object \n",
      " 4   tutorial_id     125103 non-null  float64\n",
      " 5   user_id         252334 non-null  int64  \n",
      "dtypes: float64(1), int64(2), object(3)\n",
      "memory usage: 11.6+ MB\n"
     ]
    }
   ],
   "source": [
    "# Проверяем типы данных в столбцах и изучаем пропущенные значения.\n",
    "\n",
    "events_df.info()"
   ]
  },
  {
   "cell_type": "markdown",
   "metadata": {},
   "source": [
    "Дата в формате \"object\".\n",
    "В столбцах \"selected_level\" и \"tutorial_id\" есть пропуски, это \n",
    "связано с тем, что обучение и выбор уровня сложности - события, \n",
    "которые происходят отдельно друг от друга. \n"
   ]
  },
  {
   "cell_type": "code",
   "execution_count": 5,
   "metadata": {},
   "outputs": [
    {
     "data": {
      "text/html": [
       "<div>\n",
       "<style scoped>\n",
       "    .dataframe tbody tr th:only-of-type {\n",
       "        vertical-align: middle;\n",
       "    }\n",
       "\n",
       "    .dataframe tbody tr th {\n",
       "        vertical-align: top;\n",
       "    }\n",
       "\n",
       "    .dataframe thead th {\n",
       "        text-align: right;\n",
       "    }\n",
       "</style>\n",
       "<table border=\"1\" class=\"dataframe\">\n",
       "  <thead>\n",
       "    <tr style=\"text-align: right;\">\n",
       "      <th></th>\n",
       "      <th>id</th>\n",
       "      <th>event_type</th>\n",
       "      <th>selected_level</th>\n",
       "      <th>start_time</th>\n",
       "      <th>tutorial_id</th>\n",
       "      <th>user_id</th>\n",
       "    </tr>\n",
       "  </thead>\n",
       "  <tbody>\n",
       "    <tr>\n",
       "      <th>0</th>\n",
       "      <td>28903</td>\n",
       "      <td>registration</td>\n",
       "      <td>NaN</td>\n",
       "      <td>2016-05-11 23:40:55</td>\n",
       "      <td>NaN</td>\n",
       "      <td>12583</td>\n",
       "    </tr>\n",
       "    <tr>\n",
       "      <th>1</th>\n",
       "      <td>28904</td>\n",
       "      <td>registration</td>\n",
       "      <td>NaN</td>\n",
       "      <td>2016-05-11 23:49:58</td>\n",
       "      <td>NaN</td>\n",
       "      <td>12584</td>\n",
       "    </tr>\n",
       "    <tr>\n",
       "      <th>2</th>\n",
       "      <td>28905</td>\n",
       "      <td>registration</td>\n",
       "      <td>NaN</td>\n",
       "      <td>2016-05-12 00:53:07</td>\n",
       "      <td>NaN</td>\n",
       "      <td>12585</td>\n",
       "    </tr>\n",
       "    <tr>\n",
       "      <th>3</th>\n",
       "      <td>28906</td>\n",
       "      <td>tutorial_start</td>\n",
       "      <td>NaN</td>\n",
       "      <td>2016-05-12 01:32:20</td>\n",
       "      <td>17562.0</td>\n",
       "      <td>12585</td>\n",
       "    </tr>\n",
       "    <tr>\n",
       "      <th>4</th>\n",
       "      <td>28907</td>\n",
       "      <td>tutorial_finish</td>\n",
       "      <td>NaN</td>\n",
       "      <td>2016-05-12 01:34:53</td>\n",
       "      <td>17562.0</td>\n",
       "      <td>12585</td>\n",
       "    </tr>\n",
       "  </tbody>\n",
       "</table>\n",
       "</div>"
      ],
      "text/plain": [
       "      id       event_type selected_level          start_time  tutorial_id  \\\n",
       "0  28903     registration            NaN 2016-05-11 23:40:55          NaN   \n",
       "1  28904     registration            NaN 2016-05-11 23:49:58          NaN   \n",
       "2  28905     registration            NaN 2016-05-12 00:53:07          NaN   \n",
       "3  28906   tutorial_start            NaN 2016-05-12 01:32:20      17562.0   \n",
       "4  28907  tutorial_finish            NaN 2016-05-12 01:34:53      17562.0   \n",
       "\n",
       "   user_id  \n",
       "0    12583  \n",
       "1    12584  \n",
       "2    12585  \n",
       "3    12585  \n",
       "4    12585  "
      ]
     },
     "execution_count": 5,
     "metadata": {},
     "output_type": "execute_result"
    }
   ],
   "source": [
    "# Переводим дату в формат Datetime и проверяем успешность.\n",
    "\n",
    "events_df['start_time'] = pd.to_datetime(events_df['start_time'], errors='coerce')\n",
    "events_df.head()"
   ]
  },
  {
   "cell_type": "code",
   "execution_count": 6,
   "metadata": {},
   "outputs": [],
   "source": [
    "# Так как по условию нужно делать анализ на основе данных пользователей,\n",
    "# зарегистрировавшихся в 2018 году, фильтруем датафрейм по этому условию.\n",
    "\n",
    "mask1 = events_df['start_time'] >= '2018-01-01'\n",
    "mask2 = events_df['start_time'] < '2019-01-01'\n",
    "mask3 = events_df['event_type'] == 'registration'\n",
    "\n",
    "list_users = events_df[mask1&mask2&mask3]['user_id'].to_list()\n",
    "\n",
    "events_df  = events_df[events_df['user_id'].isin(list_users)]"
   ]
  },
  {
   "cell_type": "code",
   "execution_count": 7,
   "metadata": {},
   "outputs": [
    {
     "data": {
      "text/plain": [
       "array(['registration', 'tutorial_start', 'tutorial_finish',\n",
       "       'level_choice', 'pack_choice'], dtype=object)"
      ]
     },
     "execution_count": 7,
     "metadata": {},
     "output_type": "execute_result"
    }
   ],
   "source": [
    "# Изучаем уникальные события в столбце \"event_type\".\n",
    "\n",
    "events_df['event_type'].unique()"
   ]
  },
  {
   "cell_type": "code",
   "execution_count": 8,
   "metadata": {},
   "outputs": [
    {
     "data": {
      "text/plain": [
       "array([nan, 'medium', 'hard', 'easy'], dtype=object)"
      ]
     },
     "execution_count": 8,
     "metadata": {},
     "output_type": "execute_result"
    }
   ],
   "source": [
    "# Изучаем уникальные события в столбце \"selected_level\"\n",
    "\n",
    "events_df['selected_level'].unique()"
   ]
  },
  {
   "cell_type": "code",
   "execution_count": 9,
   "metadata": {},
   "outputs": [
    {
     "data": {
      "text/plain": [
       "19926"
      ]
     },
     "execution_count": 9,
     "metadata": {},
     "output_type": "execute_result"
    }
   ],
   "source": [
    "# Оцениваем, сколько пользователей совершали события.\n",
    "\n",
    "events_df['user_id'].nunique()"
   ]
  },
  {
   "cell_type": "markdown",
   "metadata": {},
   "source": [
    "### 0.2. Информация о покупках."
   ]
  },
  {
   "cell_type": "code",
   "execution_count": 10,
   "metadata": {},
   "outputs": [
    {
     "data": {
      "text/html": [
       "<div>\n",
       "<style scoped>\n",
       "    .dataframe tbody tr th:only-of-type {\n",
       "        vertical-align: middle;\n",
       "    }\n",
       "\n",
       "    .dataframe tbody tr th {\n",
       "        vertical-align: top;\n",
       "    }\n",
       "\n",
       "    .dataframe thead th {\n",
       "        text-align: right;\n",
       "    }\n",
       "</style>\n",
       "<table border=\"1\" class=\"dataframe\">\n",
       "  <thead>\n",
       "    <tr style=\"text-align: right;\">\n",
       "      <th></th>\n",
       "      <th>id</th>\n",
       "      <th>user_id</th>\n",
       "      <th>event_datetime</th>\n",
       "      <th>amount</th>\n",
       "    </tr>\n",
       "  </thead>\n",
       "  <tbody>\n",
       "    <tr>\n",
       "      <th>0</th>\n",
       "      <td>15674</td>\n",
       "      <td>12584</td>\n",
       "      <td>2016-05-12T10:34:16</td>\n",
       "      <td>100</td>\n",
       "    </tr>\n",
       "    <tr>\n",
       "      <th>1</th>\n",
       "      <td>15675</td>\n",
       "      <td>12985</td>\n",
       "      <td>2016-05-13T08:25:56</td>\n",
       "      <td>50</td>\n",
       "    </tr>\n",
       "    <tr>\n",
       "      <th>2</th>\n",
       "      <td>15676</td>\n",
       "      <td>12828</td>\n",
       "      <td>2016-05-13T16:33:46</td>\n",
       "      <td>50</td>\n",
       "    </tr>\n",
       "    <tr>\n",
       "      <th>3</th>\n",
       "      <td>15677</td>\n",
       "      <td>12598</td>\n",
       "      <td>2016-05-14T01:09:37</td>\n",
       "      <td>150</td>\n",
       "    </tr>\n",
       "    <tr>\n",
       "      <th>4</th>\n",
       "      <td>15678</td>\n",
       "      <td>13037</td>\n",
       "      <td>2016-05-14T01:24:46</td>\n",
       "      <td>100</td>\n",
       "    </tr>\n",
       "  </tbody>\n",
       "</table>\n",
       "</div>"
      ],
      "text/plain": [
       "      id  user_id       event_datetime  amount\n",
       "0  15674    12584  2016-05-12T10:34:16     100\n",
       "1  15675    12985  2016-05-13T08:25:56      50\n",
       "2  15676    12828  2016-05-13T16:33:46      50\n",
       "3  15677    12598  2016-05-14T01:09:37     150\n",
       "4  15678    13037  2016-05-14T01:24:46     100"
      ]
     },
     "execution_count": 10,
     "metadata": {},
     "output_type": "execute_result"
    }
   ],
   "source": [
    "# Считываем данные из файла с покупками(purchase) и знакомимся с ними.\n",
    "\n",
    "purchase_df = pd.read_csv('data/project3/Purchase.csv')\n",
    "purchase_df.head()"
   ]
  },
  {
   "cell_type": "code",
   "execution_count": 11,
   "metadata": {},
   "outputs": [
    {
     "name": "stdout",
     "output_type": "stream",
     "text": [
      "<class 'pandas.core.frame.DataFrame'>\n",
      "RangeIndex: 5956 entries, 0 to 5955\n",
      "Data columns (total 4 columns):\n",
      " #   Column          Non-Null Count  Dtype \n",
      "---  ------          --------------  ----- \n",
      " 0   id              5956 non-null   int64 \n",
      " 1   user_id         5956 non-null   int64 \n",
      " 2   event_datetime  5956 non-null   object\n",
      " 3   amount          5956 non-null   int64 \n",
      "dtypes: int64(3), object(1)\n",
      "memory usage: 186.3+ KB\n"
     ]
    }
   ],
   "source": [
    "# Проверяем типы данных и пропуски.\n",
    "\n",
    "purchase_df.info()"
   ]
  },
  {
   "cell_type": "code",
   "execution_count": 12,
   "metadata": {},
   "outputs": [],
   "source": [
    "# Переводим дату в формат Datetime.\n",
    "\n",
    "purchase_df['event_datetime'] = pd.to_datetime(purchase_df['event_datetime'], errors='coerce')"
   ]
  },
  {
   "cell_type": "code",
   "execution_count": 13,
   "metadata": {},
   "outputs": [],
   "source": [
    "# Оставляем в датасете пользователей, зарегистрировавшихся в 2018 году.\n",
    "\n",
    "purchase_df = purchase_df[purchase_df['user_id'].isin(list_users)]"
   ]
  },
  {
   "cell_type": "code",
   "execution_count": 14,
   "metadata": {},
   "outputs": [
    {
     "data": {
      "text/html": [
       "<div>\n",
       "<style scoped>\n",
       "    .dataframe tbody tr th:only-of-type {\n",
       "        vertical-align: middle;\n",
       "    }\n",
       "\n",
       "    .dataframe tbody tr th {\n",
       "        vertical-align: top;\n",
       "    }\n",
       "\n",
       "    .dataframe thead th {\n",
       "        text-align: right;\n",
       "    }\n",
       "</style>\n",
       "<table border=\"1\" class=\"dataframe\">\n",
       "  <thead>\n",
       "    <tr style=\"text-align: right;\">\n",
       "      <th></th>\n",
       "      <th>id</th>\n",
       "      <th>user_id</th>\n",
       "      <th>event_datetime</th>\n",
       "      <th>amount</th>\n",
       "    </tr>\n",
       "  </thead>\n",
       "  <tbody>\n",
       "    <tr>\n",
       "      <th>1171</th>\n",
       "      <td>16845</td>\n",
       "      <td>27845</td>\n",
       "      <td>2018-01-03 18:53:43</td>\n",
       "      <td>100</td>\n",
       "    </tr>\n",
       "    <tr>\n",
       "      <th>1172</th>\n",
       "      <td>16846</td>\n",
       "      <td>27865</td>\n",
       "      <td>2018-01-04 14:46:10</td>\n",
       "      <td>250</td>\n",
       "    </tr>\n",
       "    <tr>\n",
       "      <th>1174</th>\n",
       "      <td>16848</td>\n",
       "      <td>27911</td>\n",
       "      <td>2018-01-07 08:19:12</td>\n",
       "      <td>50</td>\n",
       "    </tr>\n",
       "    <tr>\n",
       "      <th>1175</th>\n",
       "      <td>16849</td>\n",
       "      <td>27910</td>\n",
       "      <td>2018-01-07 12:11:34</td>\n",
       "      <td>100</td>\n",
       "    </tr>\n",
       "    <tr>\n",
       "      <th>1176</th>\n",
       "      <td>16850</td>\n",
       "      <td>27940</td>\n",
       "      <td>2018-01-07 13:16:41</td>\n",
       "      <td>200</td>\n",
       "    </tr>\n",
       "    <tr>\n",
       "      <th>...</th>\n",
       "      <td>...</td>\n",
       "      <td>...</td>\n",
       "      <td>...</td>\n",
       "      <td>...</td>\n",
       "    </tr>\n",
       "    <tr>\n",
       "      <th>2767</th>\n",
       "      <td>18441</td>\n",
       "      <td>47498</td>\n",
       "      <td>2019-01-02 03:48:19</td>\n",
       "      <td>100</td>\n",
       "    </tr>\n",
       "    <tr>\n",
       "      <th>2768</th>\n",
       "      <td>18442</td>\n",
       "      <td>47647</td>\n",
       "      <td>2019-01-02 23:26:26</td>\n",
       "      <td>150</td>\n",
       "    </tr>\n",
       "    <tr>\n",
       "      <th>2769</th>\n",
       "      <td>18443</td>\n",
       "      <td>47554</td>\n",
       "      <td>2019-01-03 00:36:36</td>\n",
       "      <td>50</td>\n",
       "    </tr>\n",
       "    <tr>\n",
       "      <th>2774</th>\n",
       "      <td>18448</td>\n",
       "      <td>47742</td>\n",
       "      <td>2019-01-04 12:51:41</td>\n",
       "      <td>50</td>\n",
       "    </tr>\n",
       "    <tr>\n",
       "      <th>2778</th>\n",
       "      <td>18452</td>\n",
       "      <td>47732</td>\n",
       "      <td>2019-01-06 07:14:25</td>\n",
       "      <td>150</td>\n",
       "    </tr>\n",
       "  </tbody>\n",
       "</table>\n",
       "<p>1600 rows × 4 columns</p>\n",
       "</div>"
      ],
      "text/plain": [
       "         id  user_id      event_datetime  amount\n",
       "1171  16845    27845 2018-01-03 18:53:43     100\n",
       "1172  16846    27865 2018-01-04 14:46:10     250\n",
       "1174  16848    27911 2018-01-07 08:19:12      50\n",
       "1175  16849    27910 2018-01-07 12:11:34     100\n",
       "1176  16850    27940 2018-01-07 13:16:41     200\n",
       "...     ...      ...                 ...     ...\n",
       "2767  18441    47498 2019-01-02 03:48:19     100\n",
       "2768  18442    47647 2019-01-02 23:26:26     150\n",
       "2769  18443    47554 2019-01-03 00:36:36      50\n",
       "2774  18448    47742 2019-01-04 12:51:41      50\n",
       "2778  18452    47732 2019-01-06 07:14:25     150\n",
       "\n",
       "[1600 rows x 4 columns]"
      ]
     },
     "metadata": {},
     "output_type": "display_data"
    }
   ],
   "source": [
    "# Оцениваем, сколько пользователей совершали покупки.\n",
    "\n",
    "purchase_df['user_id'].nunique()\n",
    "display(purchase_df)"
   ]
  },
  {
   "cell_type": "markdown",
   "metadata": {},
   "source": [
    "### 0.3. Объединяем датафреймы."
   ]
  },
  {
   "cell_type": "code",
   "execution_count": 15,
   "metadata": {},
   "outputs": [
    {
     "data": {
      "text/html": [
       "<div>\n",
       "<style scoped>\n",
       "    .dataframe tbody tr th:only-of-type {\n",
       "        vertical-align: middle;\n",
       "    }\n",
       "\n",
       "    .dataframe tbody tr th {\n",
       "        vertical-align: top;\n",
       "    }\n",
       "\n",
       "    .dataframe thead th {\n",
       "        text-align: right;\n",
       "    }\n",
       "</style>\n",
       "<table border=\"1\" class=\"dataframe\">\n",
       "  <thead>\n",
       "    <tr style=\"text-align: right;\">\n",
       "      <th></th>\n",
       "      <th>event_id</th>\n",
       "      <th>event_type</th>\n",
       "      <th>selected_level</th>\n",
       "      <th>start_time</th>\n",
       "      <th>tutorial_id</th>\n",
       "      <th>user_id</th>\n",
       "      <th>purchase_id</th>\n",
       "      <th>amount</th>\n",
       "    </tr>\n",
       "  </thead>\n",
       "  <tbody>\n",
       "    <tr>\n",
       "      <th>0</th>\n",
       "      <td>80308.0</td>\n",
       "      <td>registration</td>\n",
       "      <td>NaN</td>\n",
       "      <td>2018-01-01 03:48:40</td>\n",
       "      <td>NaN</td>\n",
       "      <td>27832</td>\n",
       "      <td>NaN</td>\n",
       "      <td>NaN</td>\n",
       "    </tr>\n",
       "    <tr>\n",
       "      <th>1</th>\n",
       "      <td>80309.0</td>\n",
       "      <td>registration</td>\n",
       "      <td>NaN</td>\n",
       "      <td>2018-01-01 04:07:25</td>\n",
       "      <td>NaN</td>\n",
       "      <td>27833</td>\n",
       "      <td>NaN</td>\n",
       "      <td>NaN</td>\n",
       "    </tr>\n",
       "    <tr>\n",
       "      <th>2</th>\n",
       "      <td>80310.0</td>\n",
       "      <td>registration</td>\n",
       "      <td>NaN</td>\n",
       "      <td>2018-01-01 08:35:10</td>\n",
       "      <td>NaN</td>\n",
       "      <td>27834</td>\n",
       "      <td>NaN</td>\n",
       "      <td>NaN</td>\n",
       "    </tr>\n",
       "    <tr>\n",
       "      <th>3</th>\n",
       "      <td>80311.0</td>\n",
       "      <td>registration</td>\n",
       "      <td>NaN</td>\n",
       "      <td>2018-01-01 11:54:47</td>\n",
       "      <td>NaN</td>\n",
       "      <td>27835</td>\n",
       "      <td>NaN</td>\n",
       "      <td>NaN</td>\n",
       "    </tr>\n",
       "    <tr>\n",
       "      <th>4</th>\n",
       "      <td>80312.0</td>\n",
       "      <td>registration</td>\n",
       "      <td>NaN</td>\n",
       "      <td>2018-01-01 13:28:07</td>\n",
       "      <td>NaN</td>\n",
       "      <td>27836</td>\n",
       "      <td>NaN</td>\n",
       "      <td>NaN</td>\n",
       "    </tr>\n",
       "    <tr>\n",
       "      <th>...</th>\n",
       "      <td>...</td>\n",
       "      <td>...</td>\n",
       "      <td>...</td>\n",
       "      <td>...</td>\n",
       "      <td>...</td>\n",
       "      <td>...</td>\n",
       "      <td>...</td>\n",
       "      <td>...</td>\n",
       "    </tr>\n",
       "    <tr>\n",
       "      <th>68554</th>\n",
       "      <td>NaN</td>\n",
       "      <td>purchase</td>\n",
       "      <td>NaN</td>\n",
       "      <td>2019-01-02 03:48:19</td>\n",
       "      <td>NaN</td>\n",
       "      <td>47498</td>\n",
       "      <td>18441.0</td>\n",
       "      <td>100.0</td>\n",
       "    </tr>\n",
       "    <tr>\n",
       "      <th>68555</th>\n",
       "      <td>NaN</td>\n",
       "      <td>purchase</td>\n",
       "      <td>NaN</td>\n",
       "      <td>2019-01-02 23:26:26</td>\n",
       "      <td>NaN</td>\n",
       "      <td>47647</td>\n",
       "      <td>18442.0</td>\n",
       "      <td>150.0</td>\n",
       "    </tr>\n",
       "    <tr>\n",
       "      <th>68556</th>\n",
       "      <td>NaN</td>\n",
       "      <td>purchase</td>\n",
       "      <td>NaN</td>\n",
       "      <td>2019-01-03 00:36:36</td>\n",
       "      <td>NaN</td>\n",
       "      <td>47554</td>\n",
       "      <td>18443.0</td>\n",
       "      <td>50.0</td>\n",
       "    </tr>\n",
       "    <tr>\n",
       "      <th>68557</th>\n",
       "      <td>NaN</td>\n",
       "      <td>purchase</td>\n",
       "      <td>NaN</td>\n",
       "      <td>2019-01-04 12:51:41</td>\n",
       "      <td>NaN</td>\n",
       "      <td>47742</td>\n",
       "      <td>18448.0</td>\n",
       "      <td>50.0</td>\n",
       "    </tr>\n",
       "    <tr>\n",
       "      <th>68558</th>\n",
       "      <td>NaN</td>\n",
       "      <td>purchase</td>\n",
       "      <td>NaN</td>\n",
       "      <td>2019-01-06 07:14:25</td>\n",
       "      <td>NaN</td>\n",
       "      <td>47732</td>\n",
       "      <td>18452.0</td>\n",
       "      <td>150.0</td>\n",
       "    </tr>\n",
       "  </tbody>\n",
       "</table>\n",
       "<p>68559 rows × 8 columns</p>\n",
       "</div>"
      ],
      "text/plain": [
       "       event_id    event_type selected_level          start_time  tutorial_id  \\\n",
       "0       80308.0  registration            NaN 2018-01-01 03:48:40          NaN   \n",
       "1       80309.0  registration            NaN 2018-01-01 04:07:25          NaN   \n",
       "2       80310.0  registration            NaN 2018-01-01 08:35:10          NaN   \n",
       "3       80311.0  registration            NaN 2018-01-01 11:54:47          NaN   \n",
       "4       80312.0  registration            NaN 2018-01-01 13:28:07          NaN   \n",
       "...         ...           ...            ...                 ...          ...   \n",
       "68554       NaN      purchase            NaN 2019-01-02 03:48:19          NaN   \n",
       "68555       NaN      purchase            NaN 2019-01-02 23:26:26          NaN   \n",
       "68556       NaN      purchase            NaN 2019-01-03 00:36:36          NaN   \n",
       "68557       NaN      purchase            NaN 2019-01-04 12:51:41          NaN   \n",
       "68558       NaN      purchase            NaN 2019-01-06 07:14:25          NaN   \n",
       "\n",
       "       user_id  purchase_id  amount  \n",
       "0        27832          NaN     NaN  \n",
       "1        27833          NaN     NaN  \n",
       "2        27834          NaN     NaN  \n",
       "3        27835          NaN     NaN  \n",
       "4        27836          NaN     NaN  \n",
       "...        ...          ...     ...  \n",
       "68554    47498      18441.0   100.0  \n",
       "68555    47647      18442.0   150.0  \n",
       "68556    47554      18443.0    50.0  \n",
       "68557    47742      18448.0    50.0  \n",
       "68558    47732      18452.0   150.0  \n",
       "\n",
       "[68559 rows x 8 columns]"
      ]
     },
     "metadata": {},
     "output_type": "display_data"
    }
   ],
   "source": [
    "# Создаем в датафрейме с оплатами событие \"purchase\".\n",
    "\n",
    "purchase_df['event_type'] = 'purchase'\n",
    "\n",
    "# Переименовываем столбцы для соответствия датафреймов друг другу.\n",
    "\n",
    "events_df = events_df.rename(columns={'id': 'event_id'})\n",
    "purchase_df = purchase_df.rename(columns={'id': 'purchase_id', 'event_datetime': 'start_time'})\n",
    "\n",
    "# Объединяем датафреймы и сортируем по времени.\n",
    "\n",
    "total_events_df = pd.concat([events_df, purchase_df], sort= False)\n",
    "total_events_df = total_events_df.reset_index(drop= True).sort_values('start_time')\n",
    "#total_events_df[total_events_df['event_type'] == 'purchase'].info()\n",
    "\n",
    "display(total_events_df)"
   ]
  },
  {
   "cell_type": "markdown",
   "metadata": {},
   "source": [
    "----------------------------------------------------------------------------------------------------------------------------------------------------------------------------------------------------------------------------------------------------"
   ]
  },
  {
   "cell_type": "markdown",
   "metadata": {},
   "source": [
    "## Анализ данных."
   ]
  },
  {
   "cell_type": "markdown",
   "metadata": {},
   "source": [
    "## 1. Определяем, насколько обучение сокращает время прохождения этапов игры."
   ]
  },
  {
   "cell_type": "markdown",
   "metadata": {},
   "source": [
    "### 1.1. Вычислим пользователей, завершивших обучение и пользователей, не начинавших обучение и их процент от общего числа зарегистрировавшихся для видения общей картины по этим группам."
   ]
  },
  {
   "cell_type": "code",
   "execution_count": 16,
   "metadata": {},
   "outputs": [
    {
     "name": "stdout",
     "output_type": "stream",
     "text": [
      "Количество зарегистрировавшихся пользователей: 19926\n"
     ]
    }
   ],
   "source": [
    "# Заносим количество зарегистрировавшихся пользователей в переменную \"registered_users_count\".\n",
    "\n",
    "registered_users_count = total_events_df[total_events_df['event_type'] == 'registration'][\n",
    "    'user_id'\n",
    "].nunique()\n",
    "\n",
    "print(\"Количество зарегистрировавшихся пользователей: {}\".format(registered_users_count))"
   ]
  },
  {
   "cell_type": "code",
   "execution_count": 17,
   "metadata": {},
   "outputs": [
    {
     "name": "stdout",
     "output_type": "stream",
     "text": [
      "Количество пользователей, завершивших обучение: 10250\n",
      "\n",
      "Процент пользователей, завершивших обучение от общего числа зарегистрировавшихся: 51.44%\n"
     ]
    }
   ],
   "source": [
    "# Заносим количество пользователей, завершивших обучение, в переменную \"tutorial_finish_users_count\".\n",
    "\n",
    "tutorial_finish_users_count = total_events_df[total_events_df['event_type'] == 'tutorial_finish']['user_id'].nunique()\n",
    "\n",
    "print(\"Количество пользователей, завершивших обучение: {}\".format(tutorial_finish_users_count))\n",
    "print()\n",
    "\n",
    "# Вычисляем процент пользователей, завершивших обучение.\n",
    "\n",
    "percent_tutorial_finish_users = tutorial_finish_users_count / registered_users_count \n",
    "\n",
    "print(\"Процент пользователей, завершивших обучение от общего числа зарегистрировавшихся: {:.2%}\".format(percent_tutorial_finish_users))"
   ]
  },
  {
   "cell_type": "code",
   "execution_count": 18,
   "metadata": {},
   "outputs": [
    {
     "name": "stdout",
     "output_type": "stream",
     "text": [
      "Количество пользователей, не начинавших обучение: 8068\n",
      "\n",
      "Процент пользователей, не начинавших обучение от общего числа зарегистрировавшихся: 40.49%\n"
     ]
    }
   ],
   "source": [
    "# Вычисляем процент пользователей, не начинавших обучение.\n",
    "\n",
    "# Пользователи, начавшие обучение.\n",
    "tutorial_start_users_count = total_events_df[total_events_df['event_type'] == 'tutorial_start']['user_id'].nunique() \n",
    "\n",
    "# Пользователи, не начинавшие обучение.\n",
    "not_tutorial_start_users_count = registered_users_count - tutorial_start_users_count\n",
    "\n",
    "print(\"Количество пользователей, не начинавших обучение: {}\".format(not_tutorial_start_users_count))\n",
    "print()\n",
    "\n",
    "percent_not_tutorial_start_users = not_tutorial_start_users_count / registered_users_count \n",
    "\n",
    "print(\"Процент пользователей, не начинавших обучение от общего числа зарегистрировавшихся: {:.2%}\".format(percent_not_tutorial_start_users))\n"
   ]
  },
  {
   "cell_type": "markdown",
   "metadata": {},
   "source": [
    "#### Как мы видим, всего в 2018 году зарегистрировались 19926 пользователей.\n",
    "#### Из них завершили обучение 10250(51.44%) пользователей.\n",
    "#### 8068(40.49%) пользователей обучение не начинали."
   ]
  },
  {
   "cell_type": "markdown",
   "metadata": {},
   "source": [
    "#"
   ]
  },
  {
   "cell_type": "markdown",
   "metadata": {},
   "source": [
    "### 1.2. Добавим в датафрейм столбец с метками по интересующим нас группам пользователей(завершившие обучение и не начинавшие его). "
   ]
  },
  {
   "cell_type": "code",
   "execution_count": 19,
   "metadata": {},
   "outputs": [],
   "source": [
    "# Создадим списки с пользователями по нашим группам.\n",
    "\n",
    "users_with_finished_tutorial = total_events_df[total_events_df['event_type'] == 'tutorial_finish']['user_id'].unique()\n",
    "\n",
    "# Чтобы извлечь пользователей, не начинавших обучение, создадим два множества: все пользователи \n",
    "# и начинавшие обучение, а потом вычтем одно из другого.\n",
    "\n",
    "all_users = total_events_df['user_id'].unique()\n",
    "set_all_users = set(all_users)\n",
    "\n",
    "users_with_started_tutorial = total_events_df[total_events_df['event_type'] == 'tutorial_start']['user_id'].unique()\n",
    "set_users_with_started_tutorial = set(users_with_started_tutorial)\n",
    "\n",
    "set_users_not_started_tutorial = set_all_users.difference(set_users_with_started_tutorial)\n",
    "users_not_started_tutorial = list(set_users_not_started_tutorial)"
   ]
  },
  {
   "cell_type": "code",
   "execution_count": 20,
   "metadata": {},
   "outputs": [
    {
     "data": {
      "text/html": [
       "<div>\n",
       "<style scoped>\n",
       "    .dataframe tbody tr th:only-of-type {\n",
       "        vertical-align: middle;\n",
       "    }\n",
       "\n",
       "    .dataframe tbody tr th {\n",
       "        vertical-align: top;\n",
       "    }\n",
       "\n",
       "    .dataframe thead th {\n",
       "        text-align: right;\n",
       "    }\n",
       "</style>\n",
       "<table border=\"1\" class=\"dataframe\">\n",
       "  <thead>\n",
       "    <tr style=\"text-align: right;\">\n",
       "      <th></th>\n",
       "      <th>event_id</th>\n",
       "      <th>event_type</th>\n",
       "      <th>selected_level</th>\n",
       "      <th>start_time</th>\n",
       "      <th>tutorial_id</th>\n",
       "      <th>user_id</th>\n",
       "      <th>purchase_id</th>\n",
       "      <th>amount</th>\n",
       "    </tr>\n",
       "  </thead>\n",
       "  <tbody>\n",
       "    <tr>\n",
       "      <th>0</th>\n",
       "      <td>80308.0</td>\n",
       "      <td>registration</td>\n",
       "      <td>NaN</td>\n",
       "      <td>2018-01-01 03:48:40</td>\n",
       "      <td>NaN</td>\n",
       "      <td>27832</td>\n",
       "      <td>NaN</td>\n",
       "      <td>NaN</td>\n",
       "    </tr>\n",
       "    <tr>\n",
       "      <th>1</th>\n",
       "      <td>80309.0</td>\n",
       "      <td>registration</td>\n",
       "      <td>NaN</td>\n",
       "      <td>2018-01-01 04:07:25</td>\n",
       "      <td>NaN</td>\n",
       "      <td>27833</td>\n",
       "      <td>NaN</td>\n",
       "      <td>NaN</td>\n",
       "    </tr>\n",
       "    <tr>\n",
       "      <th>2</th>\n",
       "      <td>80310.0</td>\n",
       "      <td>registration</td>\n",
       "      <td>NaN</td>\n",
       "      <td>2018-01-01 08:35:10</td>\n",
       "      <td>NaN</td>\n",
       "      <td>27834</td>\n",
       "      <td>NaN</td>\n",
       "      <td>NaN</td>\n",
       "    </tr>\n",
       "    <tr>\n",
       "      <th>3</th>\n",
       "      <td>80311.0</td>\n",
       "      <td>registration</td>\n",
       "      <td>NaN</td>\n",
       "      <td>2018-01-01 11:54:47</td>\n",
       "      <td>NaN</td>\n",
       "      <td>27835</td>\n",
       "      <td>NaN</td>\n",
       "      <td>NaN</td>\n",
       "    </tr>\n",
       "    <tr>\n",
       "      <th>4</th>\n",
       "      <td>80312.0</td>\n",
       "      <td>registration</td>\n",
       "      <td>NaN</td>\n",
       "      <td>2018-01-01 13:28:07</td>\n",
       "      <td>NaN</td>\n",
       "      <td>27836</td>\n",
       "      <td>NaN</td>\n",
       "      <td>NaN</td>\n",
       "    </tr>\n",
       "    <tr>\n",
       "      <th>...</th>\n",
       "      <td>...</td>\n",
       "      <td>...</td>\n",
       "      <td>...</td>\n",
       "      <td>...</td>\n",
       "      <td>...</td>\n",
       "      <td>...</td>\n",
       "      <td>...</td>\n",
       "      <td>...</td>\n",
       "    </tr>\n",
       "    <tr>\n",
       "      <th>68554</th>\n",
       "      <td>NaN</td>\n",
       "      <td>purchase</td>\n",
       "      <td>NaN</td>\n",
       "      <td>2019-01-02 03:48:19</td>\n",
       "      <td>NaN</td>\n",
       "      <td>47498</td>\n",
       "      <td>18441.0</td>\n",
       "      <td>100.0</td>\n",
       "    </tr>\n",
       "    <tr>\n",
       "      <th>68555</th>\n",
       "      <td>NaN</td>\n",
       "      <td>purchase</td>\n",
       "      <td>NaN</td>\n",
       "      <td>2019-01-02 23:26:26</td>\n",
       "      <td>NaN</td>\n",
       "      <td>47647</td>\n",
       "      <td>18442.0</td>\n",
       "      <td>150.0</td>\n",
       "    </tr>\n",
       "    <tr>\n",
       "      <th>68556</th>\n",
       "      <td>NaN</td>\n",
       "      <td>purchase</td>\n",
       "      <td>NaN</td>\n",
       "      <td>2019-01-03 00:36:36</td>\n",
       "      <td>NaN</td>\n",
       "      <td>47554</td>\n",
       "      <td>18443.0</td>\n",
       "      <td>50.0</td>\n",
       "    </tr>\n",
       "    <tr>\n",
       "      <th>68557</th>\n",
       "      <td>NaN</td>\n",
       "      <td>purchase</td>\n",
       "      <td>NaN</td>\n",
       "      <td>2019-01-04 12:51:41</td>\n",
       "      <td>NaN</td>\n",
       "      <td>47742</td>\n",
       "      <td>18448.0</td>\n",
       "      <td>50.0</td>\n",
       "    </tr>\n",
       "    <tr>\n",
       "      <th>68558</th>\n",
       "      <td>NaN</td>\n",
       "      <td>purchase</td>\n",
       "      <td>NaN</td>\n",
       "      <td>2019-01-06 07:14:25</td>\n",
       "      <td>NaN</td>\n",
       "      <td>47732</td>\n",
       "      <td>18452.0</td>\n",
       "      <td>150.0</td>\n",
       "    </tr>\n",
       "  </tbody>\n",
       "</table>\n",
       "<p>68559 rows × 8 columns</p>\n",
       "</div>"
      ],
      "text/plain": [
       "       event_id    event_type selected_level          start_time  tutorial_id  \\\n",
       "0       80308.0  registration            NaN 2018-01-01 03:48:40          NaN   \n",
       "1       80309.0  registration            NaN 2018-01-01 04:07:25          NaN   \n",
       "2       80310.0  registration            NaN 2018-01-01 08:35:10          NaN   \n",
       "3       80311.0  registration            NaN 2018-01-01 11:54:47          NaN   \n",
       "4       80312.0  registration            NaN 2018-01-01 13:28:07          NaN   \n",
       "...         ...           ...            ...                 ...          ...   \n",
       "68554       NaN      purchase            NaN 2019-01-02 03:48:19          NaN   \n",
       "68555       NaN      purchase            NaN 2019-01-02 23:26:26          NaN   \n",
       "68556       NaN      purchase            NaN 2019-01-03 00:36:36          NaN   \n",
       "68557       NaN      purchase            NaN 2019-01-04 12:51:41          NaN   \n",
       "68558       NaN      purchase            NaN 2019-01-06 07:14:25          NaN   \n",
       "\n",
       "       user_id  purchase_id  amount  \n",
       "0        27832          NaN     NaN  \n",
       "1        27833          NaN     NaN  \n",
       "2        27834          NaN     NaN  \n",
       "3        27835          NaN     NaN  \n",
       "4        27836          NaN     NaN  \n",
       "...        ...          ...     ...  \n",
       "68554    47498      18441.0   100.0  \n",
       "68555    47647      18442.0   150.0  \n",
       "68556    47554      18443.0    50.0  \n",
       "68557    47742      18448.0    50.0  \n",
       "68558    47732      18452.0   150.0  \n",
       "\n",
       "[68559 rows x 8 columns]"
      ]
     },
     "metadata": {},
     "output_type": "display_data"
    }
   ],
   "source": [
    "# Создадим новый датафрейм, чтобы видоизменить его под нашу задачу, но сохранить исходный для других задач.\n",
    "\n",
    "total_events_df_1 = total_events_df.copy()\n",
    "\n",
    "display(total_events_df_1)"
   ]
  },
  {
   "cell_type": "code",
   "execution_count": 21,
   "metadata": {},
   "outputs": [
    {
     "data": {
      "text/html": [
       "<div>\n",
       "<style scoped>\n",
       "    .dataframe tbody tr th:only-of-type {\n",
       "        vertical-align: middle;\n",
       "    }\n",
       "\n",
       "    .dataframe tbody tr th {\n",
       "        vertical-align: top;\n",
       "    }\n",
       "\n",
       "    .dataframe thead th {\n",
       "        text-align: right;\n",
       "    }\n",
       "</style>\n",
       "<table border=\"1\" class=\"dataframe\">\n",
       "  <thead>\n",
       "    <tr style=\"text-align: right;\">\n",
       "      <th></th>\n",
       "      <th>event_id</th>\n",
       "      <th>event_type</th>\n",
       "      <th>selected_level</th>\n",
       "      <th>start_time</th>\n",
       "      <th>tutorial_id</th>\n",
       "      <th>user_id</th>\n",
       "      <th>purchase_id</th>\n",
       "      <th>amount</th>\n",
       "      <th>user_group</th>\n",
       "    </tr>\n",
       "  </thead>\n",
       "  <tbody>\n",
       "    <tr>\n",
       "      <th>0</th>\n",
       "      <td>80308.0</td>\n",
       "      <td>registration</td>\n",
       "      <td>NaN</td>\n",
       "      <td>2018-01-01 03:48:40</td>\n",
       "      <td>NaN</td>\n",
       "      <td>27832</td>\n",
       "      <td>NaN</td>\n",
       "      <td>NaN</td>\n",
       "      <td>not_start</td>\n",
       "    </tr>\n",
       "    <tr>\n",
       "      <th>1</th>\n",
       "      <td>80309.0</td>\n",
       "      <td>registration</td>\n",
       "      <td>NaN</td>\n",
       "      <td>2018-01-01 04:07:25</td>\n",
       "      <td>NaN</td>\n",
       "      <td>27833</td>\n",
       "      <td>NaN</td>\n",
       "      <td>NaN</td>\n",
       "      <td>finished</td>\n",
       "    </tr>\n",
       "    <tr>\n",
       "      <th>2</th>\n",
       "      <td>80310.0</td>\n",
       "      <td>registration</td>\n",
       "      <td>NaN</td>\n",
       "      <td>2018-01-01 08:35:10</td>\n",
       "      <td>NaN</td>\n",
       "      <td>27834</td>\n",
       "      <td>NaN</td>\n",
       "      <td>NaN</td>\n",
       "      <td>finished</td>\n",
       "    </tr>\n",
       "    <tr>\n",
       "      <th>3</th>\n",
       "      <td>80311.0</td>\n",
       "      <td>registration</td>\n",
       "      <td>NaN</td>\n",
       "      <td>2018-01-01 11:54:47</td>\n",
       "      <td>NaN</td>\n",
       "      <td>27835</td>\n",
       "      <td>NaN</td>\n",
       "      <td>NaN</td>\n",
       "      <td>finished</td>\n",
       "    </tr>\n",
       "    <tr>\n",
       "      <th>4</th>\n",
       "      <td>80312.0</td>\n",
       "      <td>registration</td>\n",
       "      <td>NaN</td>\n",
       "      <td>2018-01-01 13:28:07</td>\n",
       "      <td>NaN</td>\n",
       "      <td>27836</td>\n",
       "      <td>NaN</td>\n",
       "      <td>NaN</td>\n",
       "      <td>finished</td>\n",
       "    </tr>\n",
       "  </tbody>\n",
       "</table>\n",
       "</div>"
      ],
      "text/plain": [
       "   event_id    event_type selected_level          start_time  tutorial_id  \\\n",
       "0   80308.0  registration            NaN 2018-01-01 03:48:40          NaN   \n",
       "1   80309.0  registration            NaN 2018-01-01 04:07:25          NaN   \n",
       "2   80310.0  registration            NaN 2018-01-01 08:35:10          NaN   \n",
       "3   80311.0  registration            NaN 2018-01-01 11:54:47          NaN   \n",
       "4   80312.0  registration            NaN 2018-01-01 13:28:07          NaN   \n",
       "\n",
       "   user_id  purchase_id  amount user_group  \n",
       "0    27832          NaN     NaN  not_start  \n",
       "1    27833          NaN     NaN   finished  \n",
       "2    27834          NaN     NaN   finished  \n",
       "3    27835          NaN     NaN   finished  \n",
       "4    27836          NaN     NaN   finished  "
      ]
     },
     "execution_count": 21,
     "metadata": {},
     "output_type": "execute_result"
    }
   ],
   "source": [
    "# Создадим функцию, которая будет принимать на вход столбец с пользователями из нашего датафрейма, а возвращать принадлежность к группе этого пользователя.\n",
    "\n",
    "def status(x, user_id):\n",
    "    if x[user_id] in users_with_finished_tutorial:\n",
    "        return 'finished'\n",
    "    elif x[user_id] in users_with_started_tutorial:\n",
    "        return 'not_finished'\n",
    "    else:\n",
    "        return 'not_start'\n",
    "\n",
    "# Создаем признак, показывающий в какую группу входит пользователь исходя из статуса его обучения(прошел/начал но неокончил/не проходил).\n",
    "\n",
    "total_events_df_1['user_group'] = total_events_df_1.apply(lambda x: status(x, 'user_id'), axis=1)\n",
    "\n",
    "total_events_df_1.head()\n"
   ]
  },
  {
   "cell_type": "code",
   "execution_count": 22,
   "metadata": {},
   "outputs": [],
   "source": [
    "# Оставляем только интересующие нас группы: окончившие и не начинавшие обучение. Группу с начавшими, но не окончившими обучение, удаляем.\n",
    "\n",
    "total_events_df_1 = total_events_df_1[total_events_df_1['user_group'] != 'not_finished']"
   ]
  },
  {
   "cell_type": "markdown",
   "metadata": {},
   "source": [
    "### 1.3. Вычислим время прохождения этапов игры для каждого пользователя."
   ]
  },
  {
   "cell_type": "markdown",
   "metadata": {},
   "source": [
    "#### Регистрация."
   ]
  },
  {
   "cell_type": "code",
   "execution_count": 23,
   "metadata": {},
   "outputs": [
    {
     "data": {
      "text/plain": [
       "np.float64(1.0)"
      ]
     },
     "execution_count": 23,
     "metadata": {},
     "output_type": "execute_result"
    }
   ],
   "source": [
    "# Создаем датафрейм с регистрациями пользователей.\n",
    "\n",
    "registration_df = total_events_df_1[total_events_df_1['event_type'] == 'registration']\n",
    "\n",
    "# Проверяем, что на каждого пользователя в нашем датафрейме приходится одно событие.\n",
    "\n",
    "registration_df['user_id'].value_counts().mean()"
   ]
  },
  {
   "cell_type": "code",
   "execution_count": 24,
   "metadata": {},
   "outputs": [
    {
     "data": {
      "text/html": [
       "<div>\n",
       "<style scoped>\n",
       "    .dataframe tbody tr th:only-of-type {\n",
       "        vertical-align: middle;\n",
       "    }\n",
       "\n",
       "    .dataframe tbody tr th {\n",
       "        vertical-align: top;\n",
       "    }\n",
       "\n",
       "    .dataframe thead th {\n",
       "        text-align: right;\n",
       "    }\n",
       "</style>\n",
       "<table border=\"1\" class=\"dataframe\">\n",
       "  <thead>\n",
       "    <tr style=\"text-align: right;\">\n",
       "      <th></th>\n",
       "      <th>user_id</th>\n",
       "      <th>user_group</th>\n",
       "      <th>registration_time</th>\n",
       "    </tr>\n",
       "  </thead>\n",
       "  <tbody>\n",
       "    <tr>\n",
       "      <th>0</th>\n",
       "      <td>27832</td>\n",
       "      <td>not_start</td>\n",
       "      <td>2018-01-01 03:48:40</td>\n",
       "    </tr>\n",
       "    <tr>\n",
       "      <th>1</th>\n",
       "      <td>27833</td>\n",
       "      <td>finished</td>\n",
       "      <td>2018-01-01 04:07:25</td>\n",
       "    </tr>\n",
       "    <tr>\n",
       "      <th>2</th>\n",
       "      <td>27834</td>\n",
       "      <td>finished</td>\n",
       "      <td>2018-01-01 08:35:10</td>\n",
       "    </tr>\n",
       "    <tr>\n",
       "      <th>3</th>\n",
       "      <td>27835</td>\n",
       "      <td>finished</td>\n",
       "      <td>2018-01-01 11:54:47</td>\n",
       "    </tr>\n",
       "    <tr>\n",
       "      <th>4</th>\n",
       "      <td>27836</td>\n",
       "      <td>finished</td>\n",
       "      <td>2018-01-01 13:28:07</td>\n",
       "    </tr>\n",
       "  </tbody>\n",
       "</table>\n",
       "</div>"
      ],
      "text/plain": [
       "   user_id user_group   registration_time\n",
       "0    27832  not_start 2018-01-01 03:48:40\n",
       "1    27833   finished 2018-01-01 04:07:25\n",
       "2    27834   finished 2018-01-01 08:35:10\n",
       "3    27835   finished 2018-01-01 11:54:47\n",
       "4    27836   finished 2018-01-01 13:28:07"
      ]
     },
     "execution_count": 24,
     "metadata": {},
     "output_type": "execute_result"
    }
   ],
   "source": [
    "# Оставляем только нужные нам столбцы и переименовываем время для понятности.\n",
    "\n",
    "registration_df = registration_df[['user_id', 'user_group', 'start_time']].rename(\n",
    "    columns={'start_time': 'registration_time'}\n",
    ")\n",
    "\n",
    "# Смотрим, что получилось.\n",
    "\n",
    "registration_df.head()"
   ]
  },
  {
   "cell_type": "markdown",
   "metadata": {},
   "source": [
    "Начало обучения."
   ]
  },
  {
   "cell_type": "code",
   "execution_count": 25,
   "metadata": {},
   "outputs": [
    {
     "data": {
      "text/plain": [
       "np.float64(1.5987317073170733)"
      ]
     },
     "execution_count": 25,
     "metadata": {},
     "output_type": "execute_result"
    }
   ],
   "source": [
    "# Создаем датафрейм по началу обучения пользователей.\n",
    "\n",
    "tutorial_start_df = total_events_df_1[total_events_df_1['event_type'] == 'tutorial_start']\n",
    "\n",
    "# Проверяем, что на каждого пользователя в нашем датафрейме приходится одно событие.\n",
    "\n",
    "tutorial_start_df['user_id'].value_counts().mean()\n"
   ]
  },
  {
   "cell_type": "markdown",
   "metadata": {},
   "source": [
    "#### Мы получили значение больше единицы. Это означает, что один пользователь может начать больше одного обучения за время пользования игрой."
   ]
  },
  {
   "cell_type": "markdown",
   "metadata": {},
   "source": [
    "#### Оставим только первое обучение."
   ]
  },
  {
   "cell_type": "code",
   "execution_count": 26,
   "metadata": {},
   "outputs": [
    {
     "data": {
      "text/plain": [
       "np.float64(1.0)"
      ]
     },
     "execution_count": 26,
     "metadata": {},
     "output_type": "execute_result"
    }
   ],
   "source": [
    "# Сортируем датафрейм по времени и удаляем дубликаты в столбце \"user_id\",\n",
    "# чтобы оставить только первое событие для пользователя.\n",
    "\n",
    "tutorial_start_df = tutorial_start_df.sort_values(\n",
    "    'start_time'\n",
    ").drop_duplicates('user_id')\n",
    "\n",
    "# Проверяем уникальность события для пользователя.\n",
    "\n",
    "tutorial_start_df['user_id'].value_counts().mean()"
   ]
  },
  {
   "cell_type": "code",
   "execution_count": 27,
   "metadata": {},
   "outputs": [
    {
     "data": {
      "text/html": [
       "<div>\n",
       "<style scoped>\n",
       "    .dataframe tbody tr th:only-of-type {\n",
       "        vertical-align: middle;\n",
       "    }\n",
       "\n",
       "    .dataframe tbody tr th {\n",
       "        vertical-align: top;\n",
       "    }\n",
       "\n",
       "    .dataframe thead th {\n",
       "        text-align: right;\n",
       "    }\n",
       "</style>\n",
       "<table border=\"1\" class=\"dataframe\">\n",
       "  <thead>\n",
       "    <tr style=\"text-align: right;\">\n",
       "      <th></th>\n",
       "      <th>user_id</th>\n",
       "      <th>tutorial_id</th>\n",
       "      <th>user_group</th>\n",
       "      <th>tutorial_start_time</th>\n",
       "    </tr>\n",
       "  </thead>\n",
       "  <tbody>\n",
       "    <tr>\n",
       "      <th>7</th>\n",
       "      <td>27836</td>\n",
       "      <td>31505.0</td>\n",
       "      <td>finished</td>\n",
       "      <td>2018-01-01 14:54:40</td>\n",
       "    </tr>\n",
       "    <tr>\n",
       "      <th>8</th>\n",
       "      <td>27835</td>\n",
       "      <td>31506.0</td>\n",
       "      <td>finished</td>\n",
       "      <td>2018-01-01 15:00:51</td>\n",
       "    </tr>\n",
       "    <tr>\n",
       "      <th>12</th>\n",
       "      <td>27833</td>\n",
       "      <td>31508.0</td>\n",
       "      <td>finished</td>\n",
       "      <td>2018-01-01 17:47:40</td>\n",
       "    </tr>\n",
       "    <tr>\n",
       "      <th>15</th>\n",
       "      <td>27839</td>\n",
       "      <td>31509.0</td>\n",
       "      <td>finished</td>\n",
       "      <td>2018-01-01 19:11:36</td>\n",
       "    </tr>\n",
       "    <tr>\n",
       "      <th>17</th>\n",
       "      <td>27834</td>\n",
       "      <td>31510.0</td>\n",
       "      <td>finished</td>\n",
       "      <td>2018-01-01 19:46:11</td>\n",
       "    </tr>\n",
       "  </tbody>\n",
       "</table>\n",
       "</div>"
      ],
      "text/plain": [
       "    user_id  tutorial_id user_group tutorial_start_time\n",
       "7     27836      31505.0   finished 2018-01-01 14:54:40\n",
       "8     27835      31506.0   finished 2018-01-01 15:00:51\n",
       "12    27833      31508.0   finished 2018-01-01 17:47:40\n",
       "15    27839      31509.0   finished 2018-01-01 19:11:36\n",
       "17    27834      31510.0   finished 2018-01-01 19:46:11"
      ]
     },
     "execution_count": 27,
     "metadata": {},
     "output_type": "execute_result"
    }
   ],
   "source": [
    "# Оставляем только нужные столбцы(столбец \"tutorial_id\" понадобится нам позже) и переименовываем время.\n",
    "# Проверяем, что получилось.\n",
    "\n",
    "tutorial_start_df = tutorial_start_df[\n",
    "    ['user_id', 'tutorial_id', 'user_group','start_time']\n",
    "].rename(columns={'start_time': 'tutorial_start_time'})\n",
    "\n",
    "tutorial_start_df.head()"
   ]
  },
  {
   "cell_type": "markdown",
   "metadata": {},
   "source": [
    "#### Вычисляем время между регистрацией и началом обучения для пользователей.\n",
    "#### Для этого объединим получившиеся датафреймы.\n"
   ]
  },
  {
   "cell_type": "code",
   "execution_count": 28,
   "metadata": {},
   "outputs": [
    {
     "data": {
      "text/html": [
       "<div>\n",
       "<style scoped>\n",
       "    .dataframe tbody tr th:only-of-type {\n",
       "        vertical-align: middle;\n",
       "    }\n",
       "\n",
       "    .dataframe tbody tr th {\n",
       "        vertical-align: top;\n",
       "    }\n",
       "\n",
       "    .dataframe thead th {\n",
       "        text-align: right;\n",
       "    }\n",
       "</style>\n",
       "<table border=\"1\" class=\"dataframe\">\n",
       "  <thead>\n",
       "    <tr style=\"text-align: right;\">\n",
       "      <th></th>\n",
       "      <th>user_id</th>\n",
       "      <th>user_group</th>\n",
       "      <th>registration_time</th>\n",
       "      <th>tutorial_id</th>\n",
       "      <th>tutorial_start_time</th>\n",
       "    </tr>\n",
       "  </thead>\n",
       "  <tbody>\n",
       "    <tr>\n",
       "      <th>0</th>\n",
       "      <td>27833</td>\n",
       "      <td>finished</td>\n",
       "      <td>2018-01-01 04:07:25</td>\n",
       "      <td>31508.0</td>\n",
       "      <td>2018-01-01 17:47:40</td>\n",
       "    </tr>\n",
       "    <tr>\n",
       "      <th>1</th>\n",
       "      <td>27834</td>\n",
       "      <td>finished</td>\n",
       "      <td>2018-01-01 08:35:10</td>\n",
       "      <td>31510.0</td>\n",
       "      <td>2018-01-01 19:46:11</td>\n",
       "    </tr>\n",
       "    <tr>\n",
       "      <th>2</th>\n",
       "      <td>27835</td>\n",
       "      <td>finished</td>\n",
       "      <td>2018-01-01 11:54:47</td>\n",
       "      <td>31506.0</td>\n",
       "      <td>2018-01-01 15:00:51</td>\n",
       "    </tr>\n",
       "    <tr>\n",
       "      <th>3</th>\n",
       "      <td>27836</td>\n",
       "      <td>finished</td>\n",
       "      <td>2018-01-01 13:28:07</td>\n",
       "      <td>31505.0</td>\n",
       "      <td>2018-01-01 14:54:40</td>\n",
       "    </tr>\n",
       "    <tr>\n",
       "      <th>4</th>\n",
       "      <td>27839</td>\n",
       "      <td>finished</td>\n",
       "      <td>2018-01-01 18:24:01</td>\n",
       "      <td>31509.0</td>\n",
       "      <td>2018-01-01 19:11:36</td>\n",
       "    </tr>\n",
       "  </tbody>\n",
       "</table>\n",
       "</div>"
      ],
      "text/plain": [
       "   user_id user_group   registration_time  tutorial_id tutorial_start_time\n",
       "0    27833   finished 2018-01-01 04:07:25      31508.0 2018-01-01 17:47:40\n",
       "1    27834   finished 2018-01-01 08:35:10      31510.0 2018-01-01 19:46:11\n",
       "2    27835   finished 2018-01-01 11:54:47      31506.0 2018-01-01 15:00:51\n",
       "3    27836   finished 2018-01-01 13:28:07      31505.0 2018-01-01 14:54:40\n",
       "4    27839   finished 2018-01-01 18:24:01      31509.0 2018-01-01 19:11:36"
      ]
     },
     "execution_count": 28,
     "metadata": {},
     "output_type": "execute_result"
    }
   ],
   "source": [
    "# Объединяем и смотрим, что получилось.\n",
    "\n",
    "registration_and_start_df = registration_df.merge(\n",
    "    tutorial_start_df, on=['user_id','user_group'], how='inner'\n",
    ")\n",
    "\n",
    "registration_and_start_df.head()"
   ]
  },
  {
   "cell_type": "code",
   "execution_count": 29,
   "metadata": {},
   "outputs": [
    {
     "data": {
      "text/html": [
       "<div>\n",
       "<style scoped>\n",
       "    .dataframe tbody tr th:only-of-type {\n",
       "        vertical-align: middle;\n",
       "    }\n",
       "\n",
       "    .dataframe tbody tr th {\n",
       "        vertical-align: top;\n",
       "    }\n",
       "\n",
       "    .dataframe thead th {\n",
       "        text-align: right;\n",
       "    }\n",
       "</style>\n",
       "<table border=\"1\" class=\"dataframe\">\n",
       "  <thead>\n",
       "    <tr style=\"text-align: right;\">\n",
       "      <th></th>\n",
       "      <th>user_id</th>\n",
       "      <th>user_group</th>\n",
       "      <th>registration_time</th>\n",
       "      <th>tutorial_id</th>\n",
       "      <th>tutorial_start_time</th>\n",
       "      <th>timedelta</th>\n",
       "    </tr>\n",
       "  </thead>\n",
       "  <tbody>\n",
       "    <tr>\n",
       "      <th>0</th>\n",
       "      <td>27833</td>\n",
       "      <td>finished</td>\n",
       "      <td>2018-01-01 04:07:25</td>\n",
       "      <td>31508.0</td>\n",
       "      <td>2018-01-01 17:47:40</td>\n",
       "      <td>0 days 13:40:15</td>\n",
       "    </tr>\n",
       "    <tr>\n",
       "      <th>1</th>\n",
       "      <td>27834</td>\n",
       "      <td>finished</td>\n",
       "      <td>2018-01-01 08:35:10</td>\n",
       "      <td>31510.0</td>\n",
       "      <td>2018-01-01 19:46:11</td>\n",
       "      <td>0 days 11:11:01</td>\n",
       "    </tr>\n",
       "    <tr>\n",
       "      <th>2</th>\n",
       "      <td>27835</td>\n",
       "      <td>finished</td>\n",
       "      <td>2018-01-01 11:54:47</td>\n",
       "      <td>31506.0</td>\n",
       "      <td>2018-01-01 15:00:51</td>\n",
       "      <td>0 days 03:06:04</td>\n",
       "    </tr>\n",
       "    <tr>\n",
       "      <th>3</th>\n",
       "      <td>27836</td>\n",
       "      <td>finished</td>\n",
       "      <td>2018-01-01 13:28:07</td>\n",
       "      <td>31505.0</td>\n",
       "      <td>2018-01-01 14:54:40</td>\n",
       "      <td>0 days 01:26:33</td>\n",
       "    </tr>\n",
       "    <tr>\n",
       "      <th>4</th>\n",
       "      <td>27839</td>\n",
       "      <td>finished</td>\n",
       "      <td>2018-01-01 18:24:01</td>\n",
       "      <td>31509.0</td>\n",
       "      <td>2018-01-01 19:11:36</td>\n",
       "      <td>0 days 00:47:35</td>\n",
       "    </tr>\n",
       "  </tbody>\n",
       "</table>\n",
       "</div>"
      ],
      "text/plain": [
       "   user_id user_group   registration_time  tutorial_id tutorial_start_time  \\\n",
       "0    27833   finished 2018-01-01 04:07:25      31508.0 2018-01-01 17:47:40   \n",
       "1    27834   finished 2018-01-01 08:35:10      31510.0 2018-01-01 19:46:11   \n",
       "2    27835   finished 2018-01-01 11:54:47      31506.0 2018-01-01 15:00:51   \n",
       "3    27836   finished 2018-01-01 13:28:07      31505.0 2018-01-01 14:54:40   \n",
       "4    27839   finished 2018-01-01 18:24:01      31509.0 2018-01-01 19:11:36   \n",
       "\n",
       "        timedelta  \n",
       "0 0 days 13:40:15  \n",
       "1 0 days 11:11:01  \n",
       "2 0 days 03:06:04  \n",
       "3 0 days 01:26:33  \n",
       "4 0 days 00:47:35  "
      ]
     },
     "execution_count": 29,
     "metadata": {},
     "output_type": "execute_result"
    }
   ],
   "source": [
    "# Создаем столбец с разницей во времени между регистрацией и началом первого обучения.\n",
    "# Смотрим результат.\n",
    "\n",
    "registration_and_start_df ['timedelta'] = (\n",
    "   registration_and_start_df ['tutorial_start_time'] - registration_and_start_df ['registration_time']\n",
    ")\n",
    "registration_and_start_df .head()"
   ]
  },
  {
   "cell_type": "markdown",
   "metadata": {},
   "source": [
    "#### Вычисляем время между началом и окончанием обучения."
   ]
  },
  {
   "cell_type": "markdown",
   "metadata": {},
   "source": [
    "Так как пользователи могут несколько раз начинать и заканчивать обучение, вычислим время между началом и окончанием первого обучения."
   ]
  },
  {
   "cell_type": "code",
   "execution_count": 30,
   "metadata": {},
   "outputs": [
    {
     "data": {
      "text/plain": [
       "np.float64(1.0)"
      ]
     },
     "execution_count": 30,
     "metadata": {},
     "output_type": "execute_result"
    }
   ],
   "source": [
    "# Создаем датафрейм с окончанием обучения.\n",
    "\n",
    "tutorial_finish_df = total_events_df_1[total_events_df_1['event_type'] == 'tutorial_finish']\n",
    "\n",
    "# Создаем список id обучений, взятых из датафрейма с первыми обучениями.\n",
    "\n",
    "first_tutorial_ids = tutorial_start_df['tutorial_id'].unique()\n",
    "\n",
    "# Фильтруем датафрейм с окончаниями обучений по этому списку.\n",
    "\n",
    "tutorial_finish_df = tutorial_finish_df[\n",
    "    tutorial_finish_df['tutorial_id'].isin(first_tutorial_ids)\n",
    "]\n",
    "\n",
    "# Проверим, что для каждого пользователя содержится по одному событию завершения обучения.\n",
    "\n",
    "tutorial_finish_df['user_id'].value_counts().mean()"
   ]
  },
  {
   "cell_type": "code",
   "execution_count": 31,
   "metadata": {},
   "outputs": [
    {
     "data": {
      "text/html": [
       "<div>\n",
       "<style scoped>\n",
       "    .dataframe tbody tr th:only-of-type {\n",
       "        vertical-align: middle;\n",
       "    }\n",
       "\n",
       "    .dataframe tbody tr th {\n",
       "        vertical-align: top;\n",
       "    }\n",
       "\n",
       "    .dataframe thead th {\n",
       "        text-align: right;\n",
       "    }\n",
       "</style>\n",
       "<table border=\"1\" class=\"dataframe\">\n",
       "  <thead>\n",
       "    <tr style=\"text-align: right;\">\n",
       "      <th></th>\n",
       "      <th>user_id</th>\n",
       "      <th>user_group</th>\n",
       "      <th>tutorial_finish_time</th>\n",
       "    </tr>\n",
       "  </thead>\n",
       "  <tbody>\n",
       "    <tr>\n",
       "      <th>9</th>\n",
       "      <td>27835</td>\n",
       "      <td>finished</td>\n",
       "      <td>2018-01-01 15:06:15</td>\n",
       "    </tr>\n",
       "    <tr>\n",
       "      <th>13</th>\n",
       "      <td>27833</td>\n",
       "      <td>finished</td>\n",
       "      <td>2018-01-01 17:50:08</td>\n",
       "    </tr>\n",
       "    <tr>\n",
       "      <th>16</th>\n",
       "      <td>27839</td>\n",
       "      <td>finished</td>\n",
       "      <td>2018-01-01 19:16:32</td>\n",
       "    </tr>\n",
       "    <tr>\n",
       "      <th>18</th>\n",
       "      <td>27834</td>\n",
       "      <td>finished</td>\n",
       "      <td>2018-01-01 19:48:01</td>\n",
       "    </tr>\n",
       "    <tr>\n",
       "      <th>31</th>\n",
       "      <td>27845</td>\n",
       "      <td>finished</td>\n",
       "      <td>2018-01-02 03:06:48</td>\n",
       "    </tr>\n",
       "  </tbody>\n",
       "</table>\n",
       "</div>"
      ],
      "text/plain": [
       "    user_id user_group tutorial_finish_time\n",
       "9     27835   finished  2018-01-01 15:06:15\n",
       "13    27833   finished  2018-01-01 17:50:08\n",
       "16    27839   finished  2018-01-01 19:16:32\n",
       "18    27834   finished  2018-01-01 19:48:01\n",
       "31    27845   finished  2018-01-02 03:06:48"
      ]
     },
     "execution_count": 31,
     "metadata": {},
     "output_type": "execute_result"
    }
   ],
   "source": [
    "# Оставляем нужные столбцы, переименовываем время и смотрим результат.\n",
    "\n",
    "tutorial_finish_df = tutorial_finish_df[['user_id', 'user_group', 'start_time']].rename(\n",
    "    columns={'start_time': 'tutorial_finish_time'}\n",
    ")\n",
    "tutorial_finish_df.head()"
   ]
  },
  {
   "cell_type": "code",
   "execution_count": 32,
   "metadata": {},
   "outputs": [
    {
     "data": {
      "text/html": [
       "<div>\n",
       "<style scoped>\n",
       "    .dataframe tbody tr th:only-of-type {\n",
       "        vertical-align: middle;\n",
       "    }\n",
       "\n",
       "    .dataframe tbody tr th {\n",
       "        vertical-align: top;\n",
       "    }\n",
       "\n",
       "    .dataframe thead th {\n",
       "        text-align: right;\n",
       "    }\n",
       "</style>\n",
       "<table border=\"1\" class=\"dataframe\">\n",
       "  <thead>\n",
       "    <tr style=\"text-align: right;\">\n",
       "      <th></th>\n",
       "      <th>user_id</th>\n",
       "      <th>tutorial_id</th>\n",
       "      <th>user_group</th>\n",
       "      <th>tutorial_start_time</th>\n",
       "      <th>tutorial_finish_time</th>\n",
       "      <th>timedelta</th>\n",
       "    </tr>\n",
       "  </thead>\n",
       "  <tbody>\n",
       "    <tr>\n",
       "      <th>0</th>\n",
       "      <td>27835</td>\n",
       "      <td>31506.0</td>\n",
       "      <td>finished</td>\n",
       "      <td>2018-01-01 15:00:51</td>\n",
       "      <td>2018-01-01 15:06:15</td>\n",
       "      <td>0 days 00:05:24</td>\n",
       "    </tr>\n",
       "    <tr>\n",
       "      <th>1</th>\n",
       "      <td>27833</td>\n",
       "      <td>31508.0</td>\n",
       "      <td>finished</td>\n",
       "      <td>2018-01-01 17:47:40</td>\n",
       "      <td>2018-01-01 17:50:08</td>\n",
       "      <td>0 days 00:02:28</td>\n",
       "    </tr>\n",
       "    <tr>\n",
       "      <th>2</th>\n",
       "      <td>27839</td>\n",
       "      <td>31509.0</td>\n",
       "      <td>finished</td>\n",
       "      <td>2018-01-01 19:11:36</td>\n",
       "      <td>2018-01-01 19:16:32</td>\n",
       "      <td>0 days 00:04:56</td>\n",
       "    </tr>\n",
       "    <tr>\n",
       "      <th>3</th>\n",
       "      <td>27834</td>\n",
       "      <td>31510.0</td>\n",
       "      <td>finished</td>\n",
       "      <td>2018-01-01 19:46:11</td>\n",
       "      <td>2018-01-01 19:48:01</td>\n",
       "      <td>0 days 00:01:50</td>\n",
       "    </tr>\n",
       "    <tr>\n",
       "      <th>4</th>\n",
       "      <td>27845</td>\n",
       "      <td>31512.0</td>\n",
       "      <td>finished</td>\n",
       "      <td>2018-01-02 03:03:44</td>\n",
       "      <td>2018-01-02 03:06:48</td>\n",
       "      <td>0 days 00:03:04</td>\n",
       "    </tr>\n",
       "  </tbody>\n",
       "</table>\n",
       "</div>"
      ],
      "text/plain": [
       "   user_id  tutorial_id user_group tutorial_start_time tutorial_finish_time  \\\n",
       "0    27835      31506.0   finished 2018-01-01 15:00:51  2018-01-01 15:06:15   \n",
       "1    27833      31508.0   finished 2018-01-01 17:47:40  2018-01-01 17:50:08   \n",
       "2    27839      31509.0   finished 2018-01-01 19:11:36  2018-01-01 19:16:32   \n",
       "3    27834      31510.0   finished 2018-01-01 19:46:11  2018-01-01 19:48:01   \n",
       "4    27845      31512.0   finished 2018-01-02 03:03:44  2018-01-02 03:06:48   \n",
       "\n",
       "        timedelta  \n",
       "0 0 days 00:05:24  \n",
       "1 0 days 00:02:28  \n",
       "2 0 days 00:04:56  \n",
       "3 0 days 00:01:50  \n",
       "4 0 days 00:03:04  "
      ]
     },
     "execution_count": 32,
     "metadata": {},
     "output_type": "execute_result"
    }
   ],
   "source": [
    "# Объединяем датафреймы с началом и окончанием обучения.\n",
    "\n",
    "start_finish_df = tutorial_start_df.merge(\n",
    "    tutorial_finish_df, on=['user_id','user_group'], how='inner'\n",
    ")\n",
    "\n",
    "# Создаем столбец с разницей во времени между началом и окончанием первого обучения.\n",
    "\n",
    "start_finish_df['timedelta'] = (\n",
    "    start_finish_df['tutorial_finish_time'] - start_finish_df['tutorial_start_time']\n",
    ")\n",
    "\n",
    "start_finish_df.head()"
   ]
  },
  {
   "cell_type": "markdown",
   "metadata": {},
   "source": [
    "#### Так как этап выбора уровня сложности может следовать и до начала и окончания обучения, чтобы не путать данные, вычислим время между регистрацией и выбором уровня сложности."
   ]
  },
  {
   "cell_type": "code",
   "execution_count": 33,
   "metadata": {},
   "outputs": [
    {
     "name": "stdout",
     "output_type": "stream",
     "text": [
      "1.0\n"
     ]
    }
   ],
   "source": [
    "# Создаем датафрейм с выбором уровня сложности.\n",
    "# Проверяем уникальность событий для пользователей.\n",
    "# Оставляем только нужные столбцы и переименовываем их.\n",
    "\n",
    "level_choice_df = total_events_df_1[total_events_df_1['event_type'] == 'level_choice']\n",
    "\n",
    "print(level_choice_df['user_id'].value_counts().mean())\n",
    "\n",
    "level_choice_df = level_choice_df[['user_id', 'user_group', 'start_time']].rename(\n",
    "    columns={'start_time': 'level_choice_time'}\n",
    ")"
   ]
  },
  {
   "cell_type": "code",
   "execution_count": 34,
   "metadata": {},
   "outputs": [
    {
     "data": {
      "text/html": [
       "<div>\n",
       "<style scoped>\n",
       "    .dataframe tbody tr th:only-of-type {\n",
       "        vertical-align: middle;\n",
       "    }\n",
       "\n",
       "    .dataframe tbody tr th {\n",
       "        vertical-align: top;\n",
       "    }\n",
       "\n",
       "    .dataframe thead th {\n",
       "        text-align: right;\n",
       "    }\n",
       "</style>\n",
       "<table border=\"1\" class=\"dataframe\">\n",
       "  <thead>\n",
       "    <tr style=\"text-align: right;\">\n",
       "      <th></th>\n",
       "      <th>user_id</th>\n",
       "      <th>user_group</th>\n",
       "      <th>registration_time</th>\n",
       "      <th>level_choice_time</th>\n",
       "      <th>timedelta</th>\n",
       "    </tr>\n",
       "  </thead>\n",
       "  <tbody>\n",
       "    <tr>\n",
       "      <th>0</th>\n",
       "      <td>27835</td>\n",
       "      <td>finished</td>\n",
       "      <td>2018-01-01 11:54:47</td>\n",
       "      <td>2018-01-01 20:37:22</td>\n",
       "      <td>0 days 08:42:35</td>\n",
       "    </tr>\n",
       "    <tr>\n",
       "      <th>1</th>\n",
       "      <td>27839</td>\n",
       "      <td>finished</td>\n",
       "      <td>2018-01-01 18:24:01</td>\n",
       "      <td>2018-01-01 22:37:50</td>\n",
       "      <td>0 days 04:13:49</td>\n",
       "    </tr>\n",
       "    <tr>\n",
       "      <th>2</th>\n",
       "      <td>27842</td>\n",
       "      <td>finished</td>\n",
       "      <td>2018-01-01 23:18:46</td>\n",
       "      <td>2018-01-02 08:46:03</td>\n",
       "      <td>0 days 09:27:17</td>\n",
       "    </tr>\n",
       "    <tr>\n",
       "      <th>3</th>\n",
       "      <td>27843</td>\n",
       "      <td>finished</td>\n",
       "      <td>2018-01-02 00:02:28</td>\n",
       "      <td>2018-01-02 14:09:58</td>\n",
       "      <td>0 days 14:07:30</td>\n",
       "    </tr>\n",
       "    <tr>\n",
       "      <th>4</th>\n",
       "      <td>27845</td>\n",
       "      <td>finished</td>\n",
       "      <td>2018-01-02 01:35:56</td>\n",
       "      <td>2018-01-02 06:19:18</td>\n",
       "      <td>0 days 04:43:22</td>\n",
       "    </tr>\n",
       "  </tbody>\n",
       "</table>\n",
       "</div>"
      ],
      "text/plain": [
       "   user_id user_group   registration_time   level_choice_time       timedelta\n",
       "0    27835   finished 2018-01-01 11:54:47 2018-01-01 20:37:22 0 days 08:42:35\n",
       "1    27839   finished 2018-01-01 18:24:01 2018-01-01 22:37:50 0 days 04:13:49\n",
       "2    27842   finished 2018-01-01 23:18:46 2018-01-02 08:46:03 0 days 09:27:17\n",
       "3    27843   finished 2018-01-02 00:02:28 2018-01-02 14:09:58 0 days 14:07:30\n",
       "4    27845   finished 2018-01-02 01:35:56 2018-01-02 06:19:18 0 days 04:43:22"
      ]
     },
     "execution_count": 34,
     "metadata": {},
     "output_type": "execute_result"
    }
   ],
   "source": [
    "# Объединяем датафреймы.\n",
    "\n",
    "registration_level_choice_df = registration_df.merge(level_choice_df, on=['user_id','user_group'], how='inner')\n",
    "\n",
    "# Создаем столбец с разницей во времени между регистрацией и выбором уровня сложности, смотрим на результат.\n",
    "\n",
    "registration_level_choice_df['timedelta'] = (\n",
    "    registration_level_choice_df['level_choice_time'] - registration_level_choice_df['registration_time']\n",
    ")\n",
    "registration_level_choice_df.head()"
   ]
  },
  {
   "cell_type": "markdown",
   "metadata": {},
   "source": [
    "#### Вычисляем время между выбором уровня сложности тренировки и выбором набора бесплатных вопросов."
   ]
  },
  {
   "cell_type": "code",
   "execution_count": 35,
   "metadata": {},
   "outputs": [
    {
     "name": "stdout",
     "output_type": "stream",
     "text": [
      "1.0\n"
     ]
    }
   ],
   "source": [
    "# Создаем датафрейм с выбором пакета вопросов.\n",
    "# Проверяем уникальность событий для пользователей.\n",
    "# Оставляем только нужные столбцы и переименовываем их.\n",
    "\n",
    "\n",
    "pack_choice_df = total_events_df_1[total_events_df_1['event_type'] == 'pack_choice']\n",
    "\n",
    "print(pack_choice_df['user_id'].value_counts().mean())\n",
    "\n",
    "pack_choice_df = pack_choice_df[['user_id', 'user_group', 'start_time']].rename(\n",
    "    columns={'start_time': 'pack_choice_time'}\n",
    ")"
   ]
  },
  {
   "cell_type": "code",
   "execution_count": 36,
   "metadata": {},
   "outputs": [
    {
     "data": {
      "text/html": [
       "<div>\n",
       "<style scoped>\n",
       "    .dataframe tbody tr th:only-of-type {\n",
       "        vertical-align: middle;\n",
       "    }\n",
       "\n",
       "    .dataframe tbody tr th {\n",
       "        vertical-align: top;\n",
       "    }\n",
       "\n",
       "    .dataframe thead th {\n",
       "        text-align: right;\n",
       "    }\n",
       "</style>\n",
       "<table border=\"1\" class=\"dataframe\">\n",
       "  <thead>\n",
       "    <tr style=\"text-align: right;\">\n",
       "      <th></th>\n",
       "      <th>user_id</th>\n",
       "      <th>user_group</th>\n",
       "      <th>level_choice_time</th>\n",
       "      <th>pack_choice_time</th>\n",
       "      <th>timedelta</th>\n",
       "    </tr>\n",
       "  </thead>\n",
       "  <tbody>\n",
       "    <tr>\n",
       "      <th>0</th>\n",
       "      <td>27835</td>\n",
       "      <td>finished</td>\n",
       "      <td>2018-01-01 20:37:22</td>\n",
       "      <td>2018-01-01 20:38:43</td>\n",
       "      <td>0 days 00:01:21</td>\n",
       "    </tr>\n",
       "    <tr>\n",
       "      <th>1</th>\n",
       "      <td>27839</td>\n",
       "      <td>finished</td>\n",
       "      <td>2018-01-01 22:37:50</td>\n",
       "      <td>2018-01-01 22:42:54</td>\n",
       "      <td>0 days 00:05:04</td>\n",
       "    </tr>\n",
       "    <tr>\n",
       "      <th>2</th>\n",
       "      <td>27845</td>\n",
       "      <td>finished</td>\n",
       "      <td>2018-01-02 06:19:18</td>\n",
       "      <td>2018-01-02 06:25:12</td>\n",
       "      <td>0 days 00:05:54</td>\n",
       "    </tr>\n",
       "    <tr>\n",
       "      <th>3</th>\n",
       "      <td>27849</td>\n",
       "      <td>finished</td>\n",
       "      <td>2018-01-02 11:53:11</td>\n",
       "      <td>2018-01-02 11:59:26</td>\n",
       "      <td>0 days 00:06:15</td>\n",
       "    </tr>\n",
       "    <tr>\n",
       "      <th>4</th>\n",
       "      <td>27843</td>\n",
       "      <td>finished</td>\n",
       "      <td>2018-01-02 14:09:58</td>\n",
       "      <td>2018-01-02 14:14:51</td>\n",
       "      <td>0 days 00:04:53</td>\n",
       "    </tr>\n",
       "  </tbody>\n",
       "</table>\n",
       "</div>"
      ],
      "text/plain": [
       "   user_id user_group   level_choice_time    pack_choice_time       timedelta\n",
       "0    27835   finished 2018-01-01 20:37:22 2018-01-01 20:38:43 0 days 00:01:21\n",
       "1    27839   finished 2018-01-01 22:37:50 2018-01-01 22:42:54 0 days 00:05:04\n",
       "2    27845   finished 2018-01-02 06:19:18 2018-01-02 06:25:12 0 days 00:05:54\n",
       "3    27849   finished 2018-01-02 11:53:11 2018-01-02 11:59:26 0 days 00:06:15\n",
       "4    27843   finished 2018-01-02 14:09:58 2018-01-02 14:14:51 0 days 00:04:53"
      ]
     },
     "execution_count": 36,
     "metadata": {},
     "output_type": "execute_result"
    }
   ],
   "source": [
    "# Объединяем датафреймы.\n",
    "\n",
    "level_pack_choice_df = level_choice_df.merge(pack_choice_df, on=['user_id','user_group'], how='inner')\n",
    "\n",
    "# Создаем столбец с разницей во времени между выбором уровня сложности и выбором пакета бесплатных вопросов.\n",
    "\n",
    "level_pack_choice_df['timedelta'] = (\n",
    "    level_pack_choice_df['pack_choice_time'] - level_pack_choice_df['level_choice_time']\n",
    ")\n",
    "level_pack_choice_df.head()\n",
    "\n"
   ]
  },
  {
   "cell_type": "markdown",
   "metadata": {},
   "source": [
    "#### Вычислим время между выбором бесплатных вопросов и первой покупкой."
   ]
  },
  {
   "cell_type": "code",
   "execution_count": 37,
   "metadata": {},
   "outputs": [
    {
     "name": "stdout",
     "output_type": "stream",
     "text": [
      "1.0\n"
     ]
    }
   ],
   "source": [
    "# Создаем датафрейм с покупками пакетов вопросов.\n",
    "# Проверяем уникальность событий для пользователей.\n",
    "# Оставляем только нужные столбцы и переименовываем их.\n",
    "\n",
    "purchase_total_df = total_events_df_1[total_events_df_1['event_type'] == 'purchase']\n",
    "\n",
    "print(purchase_total_df['user_id'].value_counts().mean())\n",
    "\n",
    "purchase_total_df = purchase_total_df[['user_id', 'user_group', 'start_time']].rename(\n",
    "    columns={'start_time': 'purchase_time'}\n",
    ")\n"
   ]
  },
  {
   "cell_type": "code",
   "execution_count": 38,
   "metadata": {},
   "outputs": [
    {
     "data": {
      "text/html": [
       "<div>\n",
       "<style scoped>\n",
       "    .dataframe tbody tr th:only-of-type {\n",
       "        vertical-align: middle;\n",
       "    }\n",
       "\n",
       "    .dataframe tbody tr th {\n",
       "        vertical-align: top;\n",
       "    }\n",
       "\n",
       "    .dataframe thead th {\n",
       "        text-align: right;\n",
       "    }\n",
       "</style>\n",
       "<table border=\"1\" class=\"dataframe\">\n",
       "  <thead>\n",
       "    <tr style=\"text-align: right;\">\n",
       "      <th></th>\n",
       "      <th>user_id</th>\n",
       "      <th>user_group</th>\n",
       "      <th>pack_choice_time</th>\n",
       "      <th>purchase_time</th>\n",
       "      <th>timedelta</th>\n",
       "    </tr>\n",
       "  </thead>\n",
       "  <tbody>\n",
       "    <tr>\n",
       "      <th>0</th>\n",
       "      <td>27845</td>\n",
       "      <td>finished</td>\n",
       "      <td>2018-01-02 06:25:12</td>\n",
       "      <td>2018-01-03 18:53:43</td>\n",
       "      <td>1 days 12:28:31</td>\n",
       "    </tr>\n",
       "    <tr>\n",
       "      <th>1</th>\n",
       "      <td>27884</td>\n",
       "      <td>finished</td>\n",
       "      <td>2018-01-04 16:22:03</td>\n",
       "      <td>2018-01-08 19:37:34</td>\n",
       "      <td>4 days 03:15:31</td>\n",
       "    </tr>\n",
       "    <tr>\n",
       "      <th>2</th>\n",
       "      <td>27910</td>\n",
       "      <td>finished</td>\n",
       "      <td>2018-01-05 12:05:28</td>\n",
       "      <td>2018-01-07 12:11:34</td>\n",
       "      <td>2 days 00:06:06</td>\n",
       "    </tr>\n",
       "    <tr>\n",
       "      <th>3</th>\n",
       "      <td>27940</td>\n",
       "      <td>finished</td>\n",
       "      <td>2018-01-06 00:39:06</td>\n",
       "      <td>2018-01-07 13:16:41</td>\n",
       "      <td>1 days 12:37:35</td>\n",
       "    </tr>\n",
       "    <tr>\n",
       "      <th>4</th>\n",
       "      <td>27969</td>\n",
       "      <td>finished</td>\n",
       "      <td>2018-01-06 20:36:37</td>\n",
       "      <td>2018-01-08 01:18:23</td>\n",
       "      <td>1 days 04:41:46</td>\n",
       "    </tr>\n",
       "  </tbody>\n",
       "</table>\n",
       "</div>"
      ],
      "text/plain": [
       "   user_id user_group    pack_choice_time       purchase_time       timedelta\n",
       "0    27845   finished 2018-01-02 06:25:12 2018-01-03 18:53:43 1 days 12:28:31\n",
       "1    27884   finished 2018-01-04 16:22:03 2018-01-08 19:37:34 4 days 03:15:31\n",
       "2    27910   finished 2018-01-05 12:05:28 2018-01-07 12:11:34 2 days 00:06:06\n",
       "3    27940   finished 2018-01-06 00:39:06 2018-01-07 13:16:41 1 days 12:37:35\n",
       "4    27969   finished 2018-01-06 20:36:37 2018-01-08 01:18:23 1 days 04:41:46"
      ]
     },
     "execution_count": 38,
     "metadata": {},
     "output_type": "execute_result"
    }
   ],
   "source": [
    "# Объединяем датафреймы.\n",
    "\n",
    "pack_choice_purchase_df = pack_choice_df.merge(purchase_total_df, on=['user_id','user_group'], how='inner')\n",
    "\n",
    "# Создаем столбец с разницей во времени между выбором бесплатных вопросов и покупкой.\n",
    "\n",
    "pack_choice_purchase_df['timedelta'] = (\n",
    "    pack_choice_purchase_df['purchase_time'] - pack_choice_purchase_df['pack_choice_time']\n",
    ")\n",
    "\n",
    "pack_choice_purchase_df.head()"
   ]
  },
  {
   "cell_type": "markdown",
   "metadata": {},
   "source": [
    "### 1.4. Сравниваем время прохождения различных этапов для пользователей, которые завершили обучение, и пользователей, не начинавших обучение."
   ]
  },
  {
   "cell_type": "markdown",
   "metadata": {},
   "source": [
    "#### Этап \"Регистрация - начало обучения\"."
   ]
  },
  {
   "cell_type": "markdown",
   "metadata": {},
   "source": [
    "Мы не можем сравнить время прохождения этого этапа между нашими группами, так как пользователи второй группы не начинали обучение."
   ]
  },
  {
   "cell_type": "markdown",
   "metadata": {},
   "source": [
    "Но мы можем изучить этот путь у первой группы."
   ]
  },
  {
   "cell_type": "code",
   "execution_count": 39,
   "metadata": {},
   "outputs": [
    {
     "data": {
      "text/plain": [
       "count                        10250\n",
       "mean     0 days 04:31:04.938146341\n",
       "std      0 days 04:11:24.828137380\n",
       "min                0 days 00:00:34\n",
       "25%         0 days 01:17:55.500000\n",
       "50%                0 days 03:13:48\n",
       "75%         0 days 06:37:27.750000\n",
       "max                1 days 16:03:46\n",
       "Name: timedelta, dtype: object"
      ]
     },
     "execution_count": 39,
     "metadata": {},
     "output_type": "execute_result"
    }
   ],
   "source": [
    "registration_and_start_df[registration_and_start_df['user_group'] == 'finished']['timedelta'].describe()"
   ]
  },
  {
   "cell_type": "markdown",
   "metadata": {},
   "source": [
    "#### Мы видим, что у пользователей, окончивших обучение, среднее время между регистрацией и началом обучения составляет 4 часа 31 минуту.\n",
    "##### Четверть пользователей тратят на это примерно 1 час 17 минут.\n",
    "##### У половины пользователей этот промежуток составляет примерно 3 часа 13 минут.\n",
    "##### Среднее время более чем на час выше медианного. Это говорит о том, что есть пoльзователи, которые долго проходят этот этап. \n",
    "##### Можно изучить их подробнее, чтобы понять, что мешает им быстрее дойти до этапа обучения."
   ]
  },
  {
   "cell_type": "markdown",
   "metadata": {},
   "source": [
    "#"
   ]
  },
  {
   "cell_type": "markdown",
   "metadata": {},
   "source": [
    "#### Для сравнения времени прохождения этапов мы будем использовать медианное время, так как на него меньше влияют единичные пользователи с аномально долгим временем, затраченным на этапы. В связи с этим медианное время даст более точную картину."
   ]
  },
  {
   "cell_type": "code",
   "execution_count": 40,
   "metadata": {},
   "outputs": [
    {
     "data": {
      "text/html": [
       "<div>\n",
       "<style scoped>\n",
       "    .dataframe tbody tr th:only-of-type {\n",
       "        vertical-align: middle;\n",
       "    }\n",
       "\n",
       "    .dataframe tbody tr th {\n",
       "        vertical-align: top;\n",
       "    }\n",
       "\n",
       "    .dataframe thead th {\n",
       "        text-align: right;\n",
       "    }\n",
       "</style>\n",
       "<table border=\"1\" class=\"dataframe\">\n",
       "  <thead>\n",
       "    <tr style=\"text-align: right;\">\n",
       "      <th></th>\n",
       "      <th>timedelta</th>\n",
       "    </tr>\n",
       "    <tr>\n",
       "      <th>user_group</th>\n",
       "      <th></th>\n",
       "    </tr>\n",
       "  </thead>\n",
       "  <tbody>\n",
       "    <tr>\n",
       "      <th>finished</th>\n",
       "      <td>0 days 03:13:48</td>\n",
       "    </tr>\n",
       "  </tbody>\n",
       "</table>\n",
       "</div>"
      ],
      "text/plain": [
       "                 timedelta\n",
       "user_group                \n",
       "finished   0 days 03:13:48"
      ]
     },
     "metadata": {},
     "output_type": "display_data"
    }
   ],
   "source": [
    "# Cоздадим сводную таблицу с медианной разницей во времени между регистрацией и началом обучения, распределенной по нашим группам пользователей.\n",
    "# Эту таблицу мы используем в дальнейшем, соединив ее с таблицами по другим этапам.\n",
    "\n",
    "registration_start = registration_and_start_df.pivot_table(values='timedelta', index='user_group', aggfunc='median')\n",
    "display(registration_start)"
   ]
  },
  {
   "cell_type": "markdown",
   "metadata": {},
   "source": [
    "#### Этап \"Начало - конец обучения\"."
   ]
  },
  {
   "cell_type": "markdown",
   "metadata": {},
   "source": [
    "По тем же причинам мы не будем сравнивать время прохождения этого этапа по группам, а изучим его для пользователей, заканчивших обучение."
   ]
  },
  {
   "cell_type": "code",
   "execution_count": 41,
   "metadata": {},
   "outputs": [
    {
     "data": {
      "text/plain": [
       "count                         9830\n",
       "mean     0 days 00:03:53.174160732\n",
       "std      0 days 00:01:44.803217992\n",
       "min                0 days 00:00:16\n",
       "25%                0 days 00:02:28\n",
       "50%                0 days 00:03:42\n",
       "75%                0 days 00:05:08\n",
       "max                0 days 00:10:06\n",
       "Name: timedelta, dtype: object"
      ]
     },
     "execution_count": 41,
     "metadata": {},
     "output_type": "execute_result"
    }
   ],
   "source": [
    "start_finish_df[start_finish_df['user_group'] == 'finished']['timedelta'].describe()"
   ]
  },
  {
   "cell_type": "markdown",
   "metadata": {},
   "source": [
    "##### Мы видим, что среднее время прохождения игры среди пользователей, окончивших обучение, составляет 3 часа 53 минуты, половина пользователей тратит на игру примерно 3 часа 42 минуты."
   ]
  },
  {
   "cell_type": "code",
   "execution_count": 42,
   "metadata": {},
   "outputs": [],
   "source": [
    "# Создаем сводную таблицу для этапа \"начало-конец обучения\".\n",
    "\n",
    "start_finish = start_finish_df.pivot_table(values='timedelta', index='user_group', aggfunc='median')"
   ]
  },
  {
   "cell_type": "markdown",
   "metadata": {},
   "source": [
    "#### Этап \"Регистрация - выбор уровня сложности\".\n"
   ]
  },
  {
   "cell_type": "markdown",
   "metadata": {},
   "source": [
    "Мы сравним время прохождения этого этапа пользователями, окончившими обучение и пользователями, не начинавшими его."
   ]
  },
  {
   "cell_type": "code",
   "execution_count": 43,
   "metadata": {},
   "outputs": [
    {
     "data": {
      "text/html": [
       "<div>\n",
       "<style scoped>\n",
       "    .dataframe tbody tr th:only-of-type {\n",
       "        vertical-align: middle;\n",
       "    }\n",
       "\n",
       "    .dataframe tbody tr th {\n",
       "        vertical-align: top;\n",
       "    }\n",
       "\n",
       "    .dataframe thead th {\n",
       "        text-align: right;\n",
       "    }\n",
       "</style>\n",
       "<table border=\"1\" class=\"dataframe\">\n",
       "  <thead>\n",
       "    <tr style=\"text-align: right;\">\n",
       "      <th></th>\n",
       "      <th>timedelta</th>\n",
       "    </tr>\n",
       "    <tr>\n",
       "      <th>user_group</th>\n",
       "      <th></th>\n",
       "    </tr>\n",
       "  </thead>\n",
       "  <tbody>\n",
       "    <tr>\n",
       "      <th>finished</th>\n",
       "      <td>0 days 06:00:07</td>\n",
       "    </tr>\n",
       "    <tr>\n",
       "      <th>not_start</th>\n",
       "      <td>0 days 04:56:05.500000</td>\n",
       "    </tr>\n",
       "  </tbody>\n",
       "</table>\n",
       "</div>"
      ],
      "text/plain": [
       "                        timedelta\n",
       "user_group                       \n",
       "finished          0 days 06:00:07\n",
       "not_start  0 days 04:56:05.500000"
      ]
     },
     "metadata": {},
     "output_type": "display_data"
    }
   ],
   "source": [
    "# Построим сводную таблицу, в которой индексами строк будут группы пользователей, а значениями медианы разницы во времени между нашими этапами.\n",
    "\n",
    "reg_level = registration_level_choice_df.pivot_table(values='timedelta', index='user_group', aggfunc='median')\n",
    "\n",
    "display(reg_level)"
   ]
  },
  {
   "cell_type": "markdown",
   "metadata": {},
   "source": [
    "#### Этап \"Выбор уровня сложности - выбор пакета бесплатных вопросов\"."
   ]
  },
  {
   "cell_type": "code",
   "execution_count": 44,
   "metadata": {},
   "outputs": [
    {
     "data": {
      "text/html": [
       "<div>\n",
       "<style scoped>\n",
       "    .dataframe tbody tr th:only-of-type {\n",
       "        vertical-align: middle;\n",
       "    }\n",
       "\n",
       "    .dataframe tbody tr th {\n",
       "        vertical-align: top;\n",
       "    }\n",
       "\n",
       "    .dataframe thead th {\n",
       "        text-align: right;\n",
       "    }\n",
       "</style>\n",
       "<table border=\"1\" class=\"dataframe\">\n",
       "  <thead>\n",
       "    <tr style=\"text-align: right;\">\n",
       "      <th></th>\n",
       "      <th>timedelta</th>\n",
       "    </tr>\n",
       "    <tr>\n",
       "      <th>user_group</th>\n",
       "      <th></th>\n",
       "    </tr>\n",
       "  </thead>\n",
       "  <tbody>\n",
       "    <tr>\n",
       "      <th>finished</th>\n",
       "      <td>0 days 00:04:58</td>\n",
       "    </tr>\n",
       "    <tr>\n",
       "      <th>not_start</th>\n",
       "      <td>0 days 00:04:46.500000</td>\n",
       "    </tr>\n",
       "  </tbody>\n",
       "</table>\n",
       "</div>"
      ],
      "text/plain": [
       "                        timedelta\n",
       "user_group                       \n",
       "finished          0 days 00:04:58\n",
       "not_start  0 days 00:04:46.500000"
      ]
     },
     "metadata": {},
     "output_type": "display_data"
    }
   ],
   "source": [
    "# Создаем сводную таблицу и для этого этапа. \n",
    " \n",
    "level_pack_choice = level_pack_choice_df.pivot_table(values='timedelta', index='user_group', aggfunc='median')\n",
    "\n",
    "display(level_pack_choice)"
   ]
  },
  {
   "cell_type": "markdown",
   "metadata": {},
   "source": [
    "#### Этап \"Выбор бесплатных вопросов - покупка платного пакета вопросов.\""
   ]
  },
  {
   "cell_type": "code",
   "execution_count": 45,
   "metadata": {},
   "outputs": [
    {
     "data": {
      "text/html": [
       "<div>\n",
       "<style scoped>\n",
       "    .dataframe tbody tr th:only-of-type {\n",
       "        vertical-align: middle;\n",
       "    }\n",
       "\n",
       "    .dataframe tbody tr th {\n",
       "        vertical-align: top;\n",
       "    }\n",
       "\n",
       "    .dataframe thead th {\n",
       "        text-align: right;\n",
       "    }\n",
       "</style>\n",
       "<table border=\"1\" class=\"dataframe\">\n",
       "  <thead>\n",
       "    <tr style=\"text-align: right;\">\n",
       "      <th></th>\n",
       "      <th>timedelta</th>\n",
       "    </tr>\n",
       "    <tr>\n",
       "      <th>user_group</th>\n",
       "      <th></th>\n",
       "    </tr>\n",
       "  </thead>\n",
       "  <tbody>\n",
       "    <tr>\n",
       "      <th>finished</th>\n",
       "      <td>3 days 12:15:56</td>\n",
       "    </tr>\n",
       "    <tr>\n",
       "      <th>not_start</th>\n",
       "      <td>4 days 04:38:42</td>\n",
       "    </tr>\n",
       "  </tbody>\n",
       "</table>\n",
       "</div>"
      ],
      "text/plain": [
       "                 timedelta\n",
       "user_group                \n",
       "finished   3 days 12:15:56\n",
       "not_start  4 days 04:38:42"
      ]
     },
     "metadata": {},
     "output_type": "display_data"
    }
   ],
   "source": [
    "# Создаем сводную.\n",
    "\n",
    "pack_choice_purchase = pack_choice_purchase_df.pivot_table(values='timedelta', index='user_group', aggfunc='median')\n",
    "\n",
    "display(pack_choice_purchase)"
   ]
  },
  {
   "cell_type": "markdown",
   "metadata": {},
   "source": [
    "#### Объединяем наши таблицы в одну для удобства визуализации."
   ]
  },
  {
   "cell_type": "code",
   "execution_count": 46,
   "metadata": {},
   "outputs": [
    {
     "data": {
      "text/html": [
       "<div>\n",
       "<style scoped>\n",
       "    .dataframe tbody tr th:only-of-type {\n",
       "        vertical-align: middle;\n",
       "    }\n",
       "\n",
       "    .dataframe tbody tr th {\n",
       "        vertical-align: top;\n",
       "    }\n",
       "\n",
       "    .dataframe thead th {\n",
       "        text-align: right;\n",
       "    }\n",
       "</style>\n",
       "<table border=\"1\" class=\"dataframe\">\n",
       "  <thead>\n",
       "    <tr style=\"text-align: right;\">\n",
       "      <th></th>\n",
       "      <th>timedelta_registration_start</th>\n",
       "      <th>timedelta_start_finish</th>\n",
       "      <th>timedelta_registration_level_choice</th>\n",
       "      <th>timedelta_level_pack_choice</th>\n",
       "      <th>timedelta_pack_choice_purchase</th>\n",
       "    </tr>\n",
       "    <tr>\n",
       "      <th>user_group</th>\n",
       "      <th></th>\n",
       "      <th></th>\n",
       "      <th></th>\n",
       "      <th></th>\n",
       "      <th></th>\n",
       "    </tr>\n",
       "  </thead>\n",
       "  <tbody>\n",
       "    <tr>\n",
       "      <th>finished</th>\n",
       "      <td>0 days 03:13:48</td>\n",
       "      <td>0 days 00:03:42</td>\n",
       "      <td>0 days 06:00:07</td>\n",
       "      <td>0 days 00:04:58</td>\n",
       "      <td>3 days 12:15:56</td>\n",
       "    </tr>\n",
       "    <tr>\n",
       "      <th>not_start</th>\n",
       "      <td>NaT</td>\n",
       "      <td>NaT</td>\n",
       "      <td>0 days 04:56:05.500000</td>\n",
       "      <td>0 days 00:04:46.500000</td>\n",
       "      <td>4 days 04:38:42</td>\n",
       "    </tr>\n",
       "  </tbody>\n",
       "</table>\n",
       "</div>"
      ],
      "text/plain": [
       "           timedelta_registration_start timedelta_start_finish  \\\n",
       "user_group                                                       \n",
       "finished                0 days 03:13:48        0 days 00:03:42   \n",
       "not_start                           NaT                    NaT   \n",
       "\n",
       "           timedelta_registration_level_choice timedelta_level_pack_choice  \\\n",
       "user_group                                                                   \n",
       "finished                       0 days 06:00:07             0 days 00:04:58   \n",
       "not_start               0 days 04:56:05.500000      0 days 00:04:46.500000   \n",
       "\n",
       "           timedelta_pack_choice_purchase  \n",
       "user_group                                 \n",
       "finished                  3 days 12:15:56  \n",
       "not_start                 4 days 04:38:42  "
      ]
     },
     "metadata": {},
     "output_type": "display_data"
    }
   ],
   "source": [
    "total_pivot_timedelta = registration_start.join(start_finish, on='user_group',how='outer', lsuffix='_registration_start', rsuffix='_start_finish')\n",
    "\n",
    "total_pivot_timedelta = total_pivot_timedelta.merge(reg_level, on='user_group',how='outer')\n",
    "total_pivot_timedelta = total_pivot_timedelta.rename(columns={'timedelta': 'timedelta_registration_level_choice'})\n",
    "\n",
    "total_pivot_timedelta = total_pivot_timedelta.merge(level_pack_choice, on='user_group',how='outer')\n",
    "total_pivot_timedelta = total_pivot_timedelta.rename(columns={'timedelta': 'timedelta_level_pack_choice'})\n",
    "\n",
    "total_pivot_timedelta = total_pivot_timedelta.merge(pack_choice_purchase, on='user_group',how='outer')\n",
    "total_pivot_timedelta = total_pivot_timedelta.rename(columns={'timedelta': 'timedelta_pack_choice_purchase'})\n",
    "\n",
    "display(total_pivot_timedelta)"
   ]
  },
  {
   "cell_type": "code",
   "execution_count": 47,
   "metadata": {},
   "outputs": [
    {
     "data": {
      "text/html": [
       "<div>\n",
       "<style scoped>\n",
       "    .dataframe tbody tr th:only-of-type {\n",
       "        vertical-align: middle;\n",
       "    }\n",
       "\n",
       "    .dataframe tbody tr th {\n",
       "        vertical-align: top;\n",
       "    }\n",
       "\n",
       "    .dataframe thead th {\n",
       "        text-align: right;\n",
       "    }\n",
       "</style>\n",
       "<table border=\"1\" class=\"dataframe\">\n",
       "  <thead>\n",
       "    <tr style=\"text-align: right;\">\n",
       "      <th></th>\n",
       "      <th>timedelta_registration_start</th>\n",
       "      <th>timedelta_start_finish</th>\n",
       "      <th>timedelta_registration_level_choice</th>\n",
       "      <th>timedelta_level_pack_choice</th>\n",
       "      <th>timedelta_pack_choice_purchase</th>\n",
       "    </tr>\n",
       "    <tr>\n",
       "      <th>user_group</th>\n",
       "      <th></th>\n",
       "      <th></th>\n",
       "      <th></th>\n",
       "      <th></th>\n",
       "      <th></th>\n",
       "    </tr>\n",
       "  </thead>\n",
       "  <tbody>\n",
       "    <tr>\n",
       "      <th>finished</th>\n",
       "      <td>3.23</td>\n",
       "      <td>0.061667</td>\n",
       "      <td>6.001944</td>\n",
       "      <td>0.082778</td>\n",
       "      <td>84.265556</td>\n",
       "    </tr>\n",
       "    <tr>\n",
       "      <th>not_start</th>\n",
       "      <td>NaN</td>\n",
       "      <td>NaN</td>\n",
       "      <td>4.934861</td>\n",
       "      <td>0.079583</td>\n",
       "      <td>100.645000</td>\n",
       "    </tr>\n",
       "  </tbody>\n",
       "</table>\n",
       "</div>"
      ],
      "text/plain": [
       "            timedelta_registration_start  timedelta_start_finish  \\\n",
       "user_group                                                         \n",
       "finished                            3.23                0.061667   \n",
       "not_start                            NaN                     NaN   \n",
       "\n",
       "            timedelta_registration_level_choice  timedelta_level_pack_choice  \\\n",
       "user_group                                                                     \n",
       "finished                               6.001944                     0.082778   \n",
       "not_start                              4.934861                     0.079583   \n",
       "\n",
       "            timedelta_pack_choice_purchase  \n",
       "user_group                                  \n",
       "finished                         84.265556  \n",
       "not_start                       100.645000  "
      ]
     },
     "metadata": {},
     "output_type": "display_data"
    }
   ],
   "source": [
    "# Переводим время в часы для адекватной визуализации.\n",
    "\n",
    "total_pivot_timedelta = total_pivot_timedelta.apply(lambda x: x/pd.Timedelta('1 hour'))\n",
    "\n",
    "display(total_pivot_timedelta)"
   ]
  },
  {
   "cell_type": "markdown",
   "metadata": {},
   "source": [
    "У нас получилась таблица, в которой часы прохождения каждого этапа разбиты по группам пользователей: окончившие обучение и не начинавшие его."
   ]
  },
  {
   "cell_type": "markdown",
   "metadata": {},
   "source": [
    "#### Приступим к визуализации."
   ]
  },
  {
   "cell_type": "code",
   "execution_count": 48,
   "metadata": {},
   "outputs": [],
   "source": [
    "# Импортируем библиотеку для построения графиков.\n",
    "\n",
    "import matplotlib.pyplot as plt\n",
    "%matplotlib inline\n"
   ]
  },
  {
   "cell_type": "code",
   "execution_count": 49,
   "metadata": {},
   "outputs": [
    {
     "data": {
      "image/png": "[encoded data removed]",
      "text/plain": [
       "<Figure size 2000x700 with 1 Axes>"
      ]
     },
     "metadata": {},
     "output_type": "display_data"
    }
   ],
   "source": [
    "fig = total_pivot_timedelta.plot(\n",
    "    kind='bar',\n",
    "    grid=True,\n",
    "    figsize=(20, 7)\n",
    ")\n",
    "plt.ylabel('Время между этапами, час.')\n",
    "plt.xlabel('Группа пользователей')\n",
    "plt.title('Время прохождения этапов игры между группами пользователей \"Окончившие обучение\"(finished) и \"Не начинавшие обучение\"(not_start).')\n",
    "plt.xticks(rotation=0)\n",
    "plt.semilogy()\n",
    "plt.show()"
   ]
  },
  {
   "cell_type": "markdown",
   "metadata": {},
   "source": [
    "#### Добавим цифр для лучшего понимания. Посчитаем разницу прохождения этапов между группой \"Окончившие обучение\" и группой \"Не начинавшие обучение\"."
   ]
  },
  {
   "cell_type": "code",
   "execution_count": 50,
   "metadata": {},
   "outputs": [
    {
     "data": {
      "text/plain": [
       "timedelta_registration_start                 NaN\n",
       "timedelta_start_finish                       NaN\n",
       "timedelta_registration_level_choice     1.067083\n",
       "timedelta_level_pack_choice             0.003194\n",
       "timedelta_pack_choice_purchase        -16.379444\n",
       "dtype: float64"
      ]
     },
     "metadata": {},
     "output_type": "display_data"
    }
   ],
   "source": [
    "# С помощью функции отнимаем из времени прохождения этапов первой группой, время прохождения этих же этапов второй групппой.\n",
    "import warnings\n",
    "warnings.simplefilter('ignore')\n",
    "difference = total_pivot_timedelta.apply(lambda x: x[0] - x[1])\n",
    "display(difference)"
   ]
  },
  {
   "cell_type": "markdown",
   "metadata": {},
   "source": [
    "##### Как мы видим, между пользователями, окончившими обучение, и пользователями, не начинавшими его, есть разница во времени прохождения этапов игры. "
   ]
  },
  {
   "cell_type": "markdown",
   "metadata": {},
   "source": [
    "##### Этап между регистрацией и выбором уровня сложности игры быстрее проходят пользователи, не начинавшие обучение.  \n",
    "\n",
    "##### Разница во времени составляет чуть больше часа. Это можно объяснить тем, что вторая группа пользователей не тратит время на обучение, а сразу переходит к выбору уровня сложности."
   ]
  },
  {
   "cell_type": "markdown",
   "metadata": {},
   "source": [
    "##### На этапе между выбором уровня сложности игры и выбором пакета бесплатных вопросов между группами пользователей нет разницы по времени прохождения(разницу в 12 секунд можно считать погрешностью).  \n",
    " ##### Можно сделать вывод что обучение не влияет на время прохождения этого этапа."
   ]
  },
  {
   "cell_type": "markdown",
   "metadata": {},
   "source": [
    "##### Этап между выбором пакета бесплатных вопросов и покупкой пользователи, окончившие обучение, проходят значительно быстрее пользователей, обучение не начинавших.  \n",
    "\n",
    "##### Разница составляет более 16 часов. Можно сделать вывод что прохождение обучения быстрее приводит пользователя к совершению покупки. "
   ]
  },
  {
   "cell_type": "markdown",
   "metadata": {},
   "source": [
    "#"
   ]
  },
  {
   "cell_type": "markdown",
   "metadata": {},
   "source": [
    "## 2. Докажем, что успешное обучение само по себе влияет на оплату и не имеет значения то, каким этапом оно шло."
   ]
  },
  {
   "cell_type": "markdown",
   "metadata": {},
   "source": [
    "Для решения этой задачи нам нужно сгруппировать пользователей по количеству законченных ими обучений."
   ]
  },
  {
   "cell_type": "code",
   "execution_count": 51,
   "metadata": {},
   "outputs": [],
   "source": [
    "# Создадим новый датафрейм для решения нашей задачи.\n",
    "\n",
    "total_events_df_2 = total_events_df.copy()\n",
    "\n"
   ]
  },
  {
   "cell_type": "markdown",
   "metadata": {},
   "source": [
    "### 2.1. Вычисляем количество оконченных обучений для каждого пользователя."
   ]
  },
  {
   "cell_type": "code",
   "execution_count": 52,
   "metadata": {},
   "outputs": [
    {
     "data": {
      "text/html": [
       "<div>\n",
       "<style scoped>\n",
       "    .dataframe tbody tr th:only-of-type {\n",
       "        vertical-align: middle;\n",
       "    }\n",
       "\n",
       "    .dataframe tbody tr th {\n",
       "        vertical-align: top;\n",
       "    }\n",
       "\n",
       "    .dataframe thead th {\n",
       "        text-align: right;\n",
       "    }\n",
       "</style>\n",
       "<table border=\"1\" class=\"dataframe\">\n",
       "  <thead>\n",
       "    <tr style=\"text-align: right;\">\n",
       "      <th></th>\n",
       "      <th>user_id</th>\n",
       "      <th>count_tutorial</th>\n",
       "    </tr>\n",
       "  </thead>\n",
       "  <tbody>\n",
       "    <tr>\n",
       "      <th>0</th>\n",
       "      <td>27833</td>\n",
       "      <td>1</td>\n",
       "    </tr>\n",
       "    <tr>\n",
       "      <th>1</th>\n",
       "      <td>27834</td>\n",
       "      <td>1</td>\n",
       "    </tr>\n",
       "    <tr>\n",
       "      <th>2</th>\n",
       "      <td>27835</td>\n",
       "      <td>1</td>\n",
       "    </tr>\n",
       "    <tr>\n",
       "      <th>3</th>\n",
       "      <td>27836</td>\n",
       "      <td>1</td>\n",
       "    </tr>\n",
       "    <tr>\n",
       "      <th>4</th>\n",
       "      <td>27839</td>\n",
       "      <td>1</td>\n",
       "    </tr>\n",
       "    <tr>\n",
       "      <th>...</th>\n",
       "      <td>...</td>\n",
       "      <td>...</td>\n",
       "    </tr>\n",
       "    <tr>\n",
       "      <th>10245</th>\n",
       "      <td>47748</td>\n",
       "      <td>1</td>\n",
       "    </tr>\n",
       "    <tr>\n",
       "      <th>10246</th>\n",
       "      <td>47751</td>\n",
       "      <td>1</td>\n",
       "    </tr>\n",
       "    <tr>\n",
       "      <th>10247</th>\n",
       "      <td>47753</td>\n",
       "      <td>1</td>\n",
       "    </tr>\n",
       "    <tr>\n",
       "      <th>10248</th>\n",
       "      <td>47755</td>\n",
       "      <td>1</td>\n",
       "    </tr>\n",
       "    <tr>\n",
       "      <th>10249</th>\n",
       "      <td>47756</td>\n",
       "      <td>1</td>\n",
       "    </tr>\n",
       "  </tbody>\n",
       "</table>\n",
       "<p>10250 rows × 2 columns</p>\n",
       "</div>"
      ],
      "text/plain": [
       "       user_id  count_tutorial\n",
       "0        27833               1\n",
       "1        27834               1\n",
       "2        27835               1\n",
       "3        27836               1\n",
       "4        27839               1\n",
       "...        ...             ...\n",
       "10245    47748               1\n",
       "10246    47751               1\n",
       "10247    47753               1\n",
       "10248    47755               1\n",
       "10249    47756               1\n",
       "\n",
       "[10250 rows x 2 columns]"
      ]
     },
     "metadata": {},
     "output_type": "display_data"
    }
   ],
   "source": [
    "# Фильтруем наш датафрейм по событию \"tutorial_finish\"\n",
    "\n",
    "total_events_df_2_finished = total_events_df_2[total_events_df_2['event_type'] == 'tutorial_finish']\n",
    "\n",
    "# Группируем событие \"tutorial_finish\" по пользователям.\n",
    "groupby_finished = total_events_df_2_finished.pivot_table(index='user_id', values='event_type', aggfunc='count')\n",
    "groupby_finished = groupby_finished.reset_index()\n",
    "\n",
    "# Переименовываем столбец с подсчитанными окончаниями обучений для удобства и проверяем, что получилось.\n",
    "groupby_finished = groupby_finished.rename(columns={'event_type': 'count_tutorial'})\n",
    "\n",
    "display(groupby_finished)\n",
    "\n"
   ]
  },
  {
   "cell_type": "code",
   "execution_count": 53,
   "metadata": {},
   "outputs": [
    {
     "data": {
      "text/html": [
       "<div>\n",
       "<style scoped>\n",
       "    .dataframe tbody tr th:only-of-type {\n",
       "        vertical-align: middle;\n",
       "    }\n",
       "\n",
       "    .dataframe tbody tr th {\n",
       "        vertical-align: top;\n",
       "    }\n",
       "\n",
       "    .dataframe thead th {\n",
       "        text-align: right;\n",
       "    }\n",
       "</style>\n",
       "<table border=\"1\" class=\"dataframe\">\n",
       "  <thead>\n",
       "    <tr style=\"text-align: right;\">\n",
       "      <th></th>\n",
       "      <th>user_id</th>\n",
       "      <th>count_tutorial</th>\n",
       "    </tr>\n",
       "  </thead>\n",
       "  <tbody>\n",
       "    <tr>\n",
       "      <th>0</th>\n",
       "      <td>27832</td>\n",
       "      <td>0</td>\n",
       "    </tr>\n",
       "    <tr>\n",
       "      <th>5</th>\n",
       "      <td>27837</td>\n",
       "      <td>0</td>\n",
       "    </tr>\n",
       "    <tr>\n",
       "      <th>6</th>\n",
       "      <td>27838</td>\n",
       "      <td>0</td>\n",
       "    </tr>\n",
       "    <tr>\n",
       "      <th>21</th>\n",
       "      <td>27840</td>\n",
       "      <td>0</td>\n",
       "    </tr>\n",
       "    <tr>\n",
       "      <th>27</th>\n",
       "      <td>27844</td>\n",
       "      <td>0</td>\n",
       "    </tr>\n",
       "    <tr>\n",
       "      <th>...</th>\n",
       "      <td>...</td>\n",
       "      <td>...</td>\n",
       "    </tr>\n",
       "    <tr>\n",
       "      <th>66936</th>\n",
       "      <td>47749</td>\n",
       "      <td>0</td>\n",
       "    </tr>\n",
       "    <tr>\n",
       "      <th>66938</th>\n",
       "      <td>47750</td>\n",
       "      <td>0</td>\n",
       "    </tr>\n",
       "    <tr>\n",
       "      <th>66940</th>\n",
       "      <td>47752</td>\n",
       "      <td>0</td>\n",
       "    </tr>\n",
       "    <tr>\n",
       "      <th>66942</th>\n",
       "      <td>47754</td>\n",
       "      <td>0</td>\n",
       "    </tr>\n",
       "    <tr>\n",
       "      <th>66951</th>\n",
       "      <td>47757</td>\n",
       "      <td>0</td>\n",
       "    </tr>\n",
       "  </tbody>\n",
       "</table>\n",
       "<p>9676 rows × 2 columns</p>\n",
       "</div>"
      ],
      "text/plain": [
       "       user_id  count_tutorial\n",
       "0        27832               0\n",
       "5        27837               0\n",
       "6        27838               0\n",
       "21       27840               0\n",
       "27       27844               0\n",
       "...        ...             ...\n",
       "66936    47749               0\n",
       "66938    47750               0\n",
       "66940    47752               0\n",
       "66942    47754               0\n",
       "66951    47757               0\n",
       "\n",
       "[9676 rows x 2 columns]"
      ]
     },
     "metadata": {},
     "output_type": "display_data"
    }
   ],
   "source": [
    "# Выделим пользователей, которые не закончили обучение ни разу.\n",
    "# Составим список этих пользователей.\n",
    "\n",
    "total_events_df_2_not_finished = total_events_df_2[~total_events_df_2['user_id'].isin(users_with_finished_tutorial)]\n",
    "\n",
    "# Создаем столбец с оконченными обучениями(со значением \"0\") и в этом датафрейме, чтобы объединить его с предыдущим.\n",
    "\n",
    "total_events_df_2_not_finished['count_tutorial'] = 0\n",
    "\n",
    "# Оставляем только нужные нам столбцы.\n",
    "\n",
    "groupby_not_finished = total_events_df_2_not_finished[['user_id', 'count_tutorial']]\n",
    "\n",
    "# Удаляем дубликаты. Смотрим, что получилось.\n",
    "\n",
    "groupby_not_finished = groupby_not_finished.drop_duplicates('user_id')\n",
    "\n",
    "display(groupby_not_finished)\n"
   ]
  },
  {
   "cell_type": "code",
   "execution_count": 54,
   "metadata": {},
   "outputs": [
    {
     "data": {
      "text/html": [
       "<div>\n",
       "<style scoped>\n",
       "    .dataframe tbody tr th:only-of-type {\n",
       "        vertical-align: middle;\n",
       "    }\n",
       "\n",
       "    .dataframe tbody tr th {\n",
       "        vertical-align: top;\n",
       "    }\n",
       "\n",
       "    .dataframe thead th {\n",
       "        text-align: right;\n",
       "    }\n",
       "</style>\n",
       "<table border=\"1\" class=\"dataframe\">\n",
       "  <thead>\n",
       "    <tr style=\"text-align: right;\">\n",
       "      <th></th>\n",
       "      <th>user_id</th>\n",
       "      <th>count_tutorial</th>\n",
       "    </tr>\n",
       "  </thead>\n",
       "  <tbody>\n",
       "    <tr>\n",
       "      <th>0</th>\n",
       "      <td>27833</td>\n",
       "      <td>1</td>\n",
       "    </tr>\n",
       "    <tr>\n",
       "      <th>1</th>\n",
       "      <td>27834</td>\n",
       "      <td>1</td>\n",
       "    </tr>\n",
       "    <tr>\n",
       "      <th>2</th>\n",
       "      <td>27835</td>\n",
       "      <td>1</td>\n",
       "    </tr>\n",
       "    <tr>\n",
       "      <th>3</th>\n",
       "      <td>27836</td>\n",
       "      <td>1</td>\n",
       "    </tr>\n",
       "    <tr>\n",
       "      <th>4</th>\n",
       "      <td>27839</td>\n",
       "      <td>1</td>\n",
       "    </tr>\n",
       "    <tr>\n",
       "      <th>...</th>\n",
       "      <td>...</td>\n",
       "      <td>...</td>\n",
       "    </tr>\n",
       "    <tr>\n",
       "      <th>19921</th>\n",
       "      <td>47749</td>\n",
       "      <td>0</td>\n",
       "    </tr>\n",
       "    <tr>\n",
       "      <th>19922</th>\n",
       "      <td>47750</td>\n",
       "      <td>0</td>\n",
       "    </tr>\n",
       "    <tr>\n",
       "      <th>19923</th>\n",
       "      <td>47752</td>\n",
       "      <td>0</td>\n",
       "    </tr>\n",
       "    <tr>\n",
       "      <th>19924</th>\n",
       "      <td>47754</td>\n",
       "      <td>0</td>\n",
       "    </tr>\n",
       "    <tr>\n",
       "      <th>19925</th>\n",
       "      <td>47757</td>\n",
       "      <td>0</td>\n",
       "    </tr>\n",
       "  </tbody>\n",
       "</table>\n",
       "<p>19926 rows × 2 columns</p>\n",
       "</div>"
      ],
      "text/plain": [
       "       user_id  count_tutorial\n",
       "0        27833               1\n",
       "1        27834               1\n",
       "2        27835               1\n",
       "3        27836               1\n",
       "4        27839               1\n",
       "...        ...             ...\n",
       "19921    47749               0\n",
       "19922    47750               0\n",
       "19923    47752               0\n",
       "19924    47754               0\n",
       "19925    47757               0\n",
       "\n",
       "[19926 rows x 2 columns]"
      ]
     },
     "metadata": {},
     "output_type": "display_data"
    }
   ],
   "source": [
    "# Объединим получившиеся таблицы.\n",
    "\n",
    "grouped_count_tutorial = pd.concat([groupby_finished, groupby_not_finished], ignore_index=True)\n",
    "\n",
    "display(grouped_count_tutorial)"
   ]
  },
  {
   "cell_type": "code",
   "execution_count": 55,
   "metadata": {},
   "outputs": [
    {
     "data": {
      "text/html": [
       "<div>\n",
       "<style scoped>\n",
       "    .dataframe tbody tr th:only-of-type {\n",
       "        vertical-align: middle;\n",
       "    }\n",
       "\n",
       "    .dataframe tbody tr th {\n",
       "        vertical-align: top;\n",
       "    }\n",
       "\n",
       "    .dataframe thead th {\n",
       "        text-align: right;\n",
       "    }\n",
       "</style>\n",
       "<table border=\"1\" class=\"dataframe\">\n",
       "  <thead>\n",
       "    <tr style=\"text-align: right;\">\n",
       "      <th></th>\n",
       "      <th>count_tutorial</th>\n",
       "      <th>total_users</th>\n",
       "    </tr>\n",
       "  </thead>\n",
       "  <tbody>\n",
       "    <tr>\n",
       "      <th>0</th>\n",
       "      <td>0</td>\n",
       "      <td>9676</td>\n",
       "    </tr>\n",
       "    <tr>\n",
       "      <th>1</th>\n",
       "      <td>1</td>\n",
       "      <td>8015</td>\n",
       "    </tr>\n",
       "    <tr>\n",
       "      <th>2</th>\n",
       "      <td>2</td>\n",
       "      <td>1321</td>\n",
       "    </tr>\n",
       "    <tr>\n",
       "      <th>3</th>\n",
       "      <td>3</td>\n",
       "      <td>345</td>\n",
       "    </tr>\n",
       "    <tr>\n",
       "      <th>4</th>\n",
       "      <td>4</td>\n",
       "      <td>178</td>\n",
       "    </tr>\n",
       "    <tr>\n",
       "      <th>5</th>\n",
       "      <td>5</td>\n",
       "      <td>117</td>\n",
       "    </tr>\n",
       "    <tr>\n",
       "      <th>6</th>\n",
       "      <td>6</td>\n",
       "      <td>101</td>\n",
       "    </tr>\n",
       "    <tr>\n",
       "      <th>7</th>\n",
       "      <td>7</td>\n",
       "      <td>97</td>\n",
       "    </tr>\n",
       "    <tr>\n",
       "      <th>8</th>\n",
       "      <td>8</td>\n",
       "      <td>54</td>\n",
       "    </tr>\n",
       "    <tr>\n",
       "      <th>9</th>\n",
       "      <td>9</td>\n",
       "      <td>22</td>\n",
       "    </tr>\n",
       "  </tbody>\n",
       "</table>\n",
       "</div>"
      ],
      "text/plain": [
       "   count_tutorial  total_users\n",
       "0               0         9676\n",
       "1               1         8015\n",
       "2               2         1321\n",
       "3               3          345\n",
       "4               4          178\n",
       "5               5          117\n",
       "6               6          101\n",
       "7               7           97\n",
       "8               8           54\n",
       "9               9           22"
      ]
     },
     "metadata": {},
     "output_type": "display_data"
    }
   ],
   "source": [
    "# Теперь совершим обратное действие и сгруппируем количество пользователей по количеству оконченных обучений.\n",
    " \n",
    "total_count_tutorial = grouped_count_tutorial.pivot_table(index='count_tutorial', values='user_id', aggfunc='count')\n",
    "total_count_tutorial = total_count_tutorial.reset_index()\n",
    "total_count_tutorial = total_count_tutorial.rename(columns={'user_id': 'total_users'})\n",
    "\n",
    "display(total_count_tutorial)"
   ]
  },
  {
   "cell_type": "markdown",
   "metadata": {},
   "source": [
    "У нас получился датафрейм с пользователями, сгруппированными по количеству оконченных ими обучений. Уже на данном этапе видно, что пользователей, со значением оконченных обучений 0, больше других. Это говорит о том, что многие пользователи(9676 человек), не закончили обучение ни разу."
   ]
  },
  {
   "cell_type": "markdown",
   "metadata": {},
   "source": [
    "### 2.2. Теперь вычислим, как оплаты распределены по количеству обучений."
   ]
  },
  {
   "cell_type": "code",
   "execution_count": 56,
   "metadata": {},
   "outputs": [
    {
     "data": {
      "text/html": [
       "<div>\n",
       "<style scoped>\n",
       "    .dataframe tbody tr th:only-of-type {\n",
       "        vertical-align: middle;\n",
       "    }\n",
       "\n",
       "    .dataframe tbody tr th {\n",
       "        vertical-align: top;\n",
       "    }\n",
       "\n",
       "    .dataframe thead th {\n",
       "        text-align: right;\n",
       "    }\n",
       "</style>\n",
       "<table border=\"1\" class=\"dataframe\">\n",
       "  <thead>\n",
       "    <tr style=\"text-align: right;\">\n",
       "      <th></th>\n",
       "      <th>event_id</th>\n",
       "      <th>event_type</th>\n",
       "      <th>selected_level</th>\n",
       "      <th>start_time</th>\n",
       "      <th>tutorial_id</th>\n",
       "      <th>user_id</th>\n",
       "      <th>purchase_id</th>\n",
       "      <th>amount</th>\n",
       "      <th>count_tutorial</th>\n",
       "    </tr>\n",
       "  </thead>\n",
       "  <tbody>\n",
       "    <tr>\n",
       "      <th>49</th>\n",
       "      <td>NaN</td>\n",
       "      <td>purchase</td>\n",
       "      <td>NaN</td>\n",
       "      <td>2018-01-03 18:53:43</td>\n",
       "      <td>NaN</td>\n",
       "      <td>27845</td>\n",
       "      <td>16845.0</td>\n",
       "      <td>100.0</td>\n",
       "      <td>2</td>\n",
       "    </tr>\n",
       "    <tr>\n",
       "      <th>123</th>\n",
       "      <td>NaN</td>\n",
       "      <td>purchase</td>\n",
       "      <td>NaN</td>\n",
       "      <td>2018-01-04 14:46:10</td>\n",
       "      <td>NaN</td>\n",
       "      <td>27865</td>\n",
       "      <td>16846.0</td>\n",
       "      <td>250.0</td>\n",
       "      <td>0</td>\n",
       "    </tr>\n",
       "    <tr>\n",
       "      <th>174</th>\n",
       "      <td>NaN</td>\n",
       "      <td>purchase</td>\n",
       "      <td>NaN</td>\n",
       "      <td>2018-01-08 19:37:34</td>\n",
       "      <td>NaN</td>\n",
       "      <td>27884</td>\n",
       "      <td>16854.0</td>\n",
       "      <td>150.0</td>\n",
       "      <td>2</td>\n",
       "    </tr>\n",
       "    <tr>\n",
       "      <th>243</th>\n",
       "      <td>NaN</td>\n",
       "      <td>purchase</td>\n",
       "      <td>NaN</td>\n",
       "      <td>2018-01-07 12:11:34</td>\n",
       "      <td>NaN</td>\n",
       "      <td>27910</td>\n",
       "      <td>16849.0</td>\n",
       "      <td>100.0</td>\n",
       "      <td>1</td>\n",
       "    </tr>\n",
       "    <tr>\n",
       "      <th>248</th>\n",
       "      <td>NaN</td>\n",
       "      <td>purchase</td>\n",
       "      <td>NaN</td>\n",
       "      <td>2018-01-07 08:19:12</td>\n",
       "      <td>NaN</td>\n",
       "      <td>27911</td>\n",
       "      <td>16848.0</td>\n",
       "      <td>50.0</td>\n",
       "      <td>0</td>\n",
       "    </tr>\n",
       "    <tr>\n",
       "      <th>...</th>\n",
       "      <td>...</td>\n",
       "      <td>...</td>\n",
       "      <td>...</td>\n",
       "      <td>...</td>\n",
       "      <td>...</td>\n",
       "      <td>...</td>\n",
       "      <td>...</td>\n",
       "      <td>...</td>\n",
       "      <td>...</td>\n",
       "    </tr>\n",
       "    <tr>\n",
       "      <th>68318</th>\n",
       "      <td>NaN</td>\n",
       "      <td>purchase</td>\n",
       "      <td>NaN</td>\n",
       "      <td>2018-12-30 01:39:50</td>\n",
       "      <td>NaN</td>\n",
       "      <td>47671</td>\n",
       "      <td>18429.0</td>\n",
       "      <td>200.0</td>\n",
       "      <td>1</td>\n",
       "    </tr>\n",
       "    <tr>\n",
       "      <th>68349</th>\n",
       "      <td>NaN</td>\n",
       "      <td>purchase</td>\n",
       "      <td>NaN</td>\n",
       "      <td>2018-12-30 09:05:28</td>\n",
       "      <td>NaN</td>\n",
       "      <td>47687</td>\n",
       "      <td>18432.0</td>\n",
       "      <td>100.0</td>\n",
       "      <td>1</td>\n",
       "    </tr>\n",
       "    <tr>\n",
       "      <th>68428</th>\n",
       "      <td>NaN</td>\n",
       "      <td>purchase</td>\n",
       "      <td>NaN</td>\n",
       "      <td>2018-12-31 09:05:20</td>\n",
       "      <td>NaN</td>\n",
       "      <td>47712</td>\n",
       "      <td>18434.0</td>\n",
       "      <td>50.0</td>\n",
       "      <td>1</td>\n",
       "    </tr>\n",
       "    <tr>\n",
       "      <th>68488</th>\n",
       "      <td>NaN</td>\n",
       "      <td>purchase</td>\n",
       "      <td>NaN</td>\n",
       "      <td>2019-01-06 07:14:25</td>\n",
       "      <td>NaN</td>\n",
       "      <td>47732</td>\n",
       "      <td>18452.0</td>\n",
       "      <td>150.0</td>\n",
       "      <td>1</td>\n",
       "    </tr>\n",
       "    <tr>\n",
       "      <th>68517</th>\n",
       "      <td>NaN</td>\n",
       "      <td>purchase</td>\n",
       "      <td>NaN</td>\n",
       "      <td>2019-01-04 12:51:41</td>\n",
       "      <td>NaN</td>\n",
       "      <td>47742</td>\n",
       "      <td>18448.0</td>\n",
       "      <td>50.0</td>\n",
       "      <td>1</td>\n",
       "    </tr>\n",
       "  </tbody>\n",
       "</table>\n",
       "<p>1600 rows × 9 columns</p>\n",
       "</div>"
      ],
      "text/plain": [
       "       event_id event_type selected_level          start_time  tutorial_id  \\\n",
       "49          NaN   purchase            NaN 2018-01-03 18:53:43          NaN   \n",
       "123         NaN   purchase            NaN 2018-01-04 14:46:10          NaN   \n",
       "174         NaN   purchase            NaN 2018-01-08 19:37:34          NaN   \n",
       "243         NaN   purchase            NaN 2018-01-07 12:11:34          NaN   \n",
       "248         NaN   purchase            NaN 2018-01-07 08:19:12          NaN   \n",
       "...         ...        ...            ...                 ...          ...   \n",
       "68318       NaN   purchase            NaN 2018-12-30 01:39:50          NaN   \n",
       "68349       NaN   purchase            NaN 2018-12-30 09:05:28          NaN   \n",
       "68428       NaN   purchase            NaN 2018-12-31 09:05:20          NaN   \n",
       "68488       NaN   purchase            NaN 2019-01-06 07:14:25          NaN   \n",
       "68517       NaN   purchase            NaN 2019-01-04 12:51:41          NaN   \n",
       "\n",
       "       user_id  purchase_id  amount  count_tutorial  \n",
       "49       27845      16845.0   100.0               2  \n",
       "123      27865      16846.0   250.0               0  \n",
       "174      27884      16854.0   150.0               2  \n",
       "243      27910      16849.0   100.0               1  \n",
       "248      27911      16848.0    50.0               0  \n",
       "...        ...          ...     ...             ...  \n",
       "68318    47671      18429.0   200.0               1  \n",
       "68349    47687      18432.0   100.0               1  \n",
       "68428    47712      18434.0    50.0               1  \n",
       "68488    47732      18452.0   150.0               1  \n",
       "68517    47742      18448.0    50.0               1  \n",
       "\n",
       "[1600 rows x 9 columns]"
      ]
     },
     "metadata": {},
     "output_type": "display_data"
    }
   ],
   "source": [
    "# Присоединим получившийся датафрейм к исходному.\n",
    "\n",
    "total_events_df_2 = total_events_df_2.merge(grouped_count_tutorial, how='outer', on='user_id')\n",
    "\n",
    "# Оставим в датафрейме только событие \"purchase\", так как другие события нам не интересны на этом этапе.\n",
    "\n",
    "total_events_df_2 = total_events_df_2[total_events_df_2['event_type'] == 'purchase']\n",
    "\n",
    "display(total_events_df_2)\n",
    "\n"
   ]
  },
  {
   "cell_type": "code",
   "execution_count": 57,
   "metadata": {},
   "outputs": [
    {
     "data": {
      "text/html": [
       "<div>\n",
       "<style scoped>\n",
       "    .dataframe tbody tr th:only-of-type {\n",
       "        vertical-align: middle;\n",
       "    }\n",
       "\n",
       "    .dataframe tbody tr th {\n",
       "        vertical-align: top;\n",
       "    }\n",
       "\n",
       "    .dataframe thead th {\n",
       "        text-align: right;\n",
       "    }\n",
       "</style>\n",
       "<table border=\"1\" class=\"dataframe\">\n",
       "  <thead>\n",
       "    <tr style=\"text-align: right;\">\n",
       "      <th></th>\n",
       "      <th>count_tutorial</th>\n",
       "      <th>purchase_users</th>\n",
       "    </tr>\n",
       "  </thead>\n",
       "  <tbody>\n",
       "    <tr>\n",
       "      <th>0</th>\n",
       "      <td>0</td>\n",
       "      <td>153</td>\n",
       "    </tr>\n",
       "    <tr>\n",
       "      <th>1</th>\n",
       "      <td>1</td>\n",
       "      <td>1143</td>\n",
       "    </tr>\n",
       "    <tr>\n",
       "      <th>2</th>\n",
       "      <td>2</td>\n",
       "      <td>182</td>\n",
       "    </tr>\n",
       "    <tr>\n",
       "      <th>3</th>\n",
       "      <td>3</td>\n",
       "      <td>44</td>\n",
       "    </tr>\n",
       "    <tr>\n",
       "      <th>4</th>\n",
       "      <td>4</td>\n",
       "      <td>19</td>\n",
       "    </tr>\n",
       "    <tr>\n",
       "      <th>5</th>\n",
       "      <td>5</td>\n",
       "      <td>19</td>\n",
       "    </tr>\n",
       "    <tr>\n",
       "      <th>6</th>\n",
       "      <td>6</td>\n",
       "      <td>15</td>\n",
       "    </tr>\n",
       "    <tr>\n",
       "      <th>7</th>\n",
       "      <td>7</td>\n",
       "      <td>15</td>\n",
       "    </tr>\n",
       "    <tr>\n",
       "      <th>8</th>\n",
       "      <td>8</td>\n",
       "      <td>6</td>\n",
       "    </tr>\n",
       "    <tr>\n",
       "      <th>9</th>\n",
       "      <td>9</td>\n",
       "      <td>4</td>\n",
       "    </tr>\n",
       "  </tbody>\n",
       "</table>\n",
       "</div>"
      ],
      "text/plain": [
       "   count_tutorial  purchase_users\n",
       "0               0             153\n",
       "1               1            1143\n",
       "2               2             182\n",
       "3               3              44\n",
       "4               4              19\n",
       "5               5              19\n",
       "6               6              15\n",
       "7               7              15\n",
       "8               8               6\n",
       "9               9               4"
      ]
     },
     "metadata": {},
     "output_type": "display_data"
    }
   ],
   "source": [
    "# Так как, изучая исходный датафрейм с оплатами, мы выяснили, что на одного пользователя приходится одна оплата,\n",
    "# мы можем создать нужную нам таблицу, просто посчитав количество оплативших пользователей, сгруппировав их \n",
    "# по количеству оконченных обучений.\n",
    "\n",
    "purchase_count_tutorial = total_events_df_2.pivot_table(index='count_tutorial', values='user_id', aggfunc='count')\n",
    "purchase_count_tutorial = purchase_count_tutorial.reset_index()\n",
    "purchase_count_tutorial = purchase_count_tutorial.rename(columns={'user_id': 'purchase_users'})\n",
    "\n",
    "display(purchase_count_tutorial)\n",
    "\n"
   ]
  },
  {
   "cell_type": "markdown",
   "metadata": {},
   "source": [
    "Мы получили таблицу с оплатами, сгруппированными по количеству обучений. Присоединим ее к таблице с общим количеством пользователей."
   ]
  },
  {
   "cell_type": "code",
   "execution_count": 58,
   "metadata": {},
   "outputs": [
    {
     "data": {
      "text/html": [
       "<div>\n",
       "<style scoped>\n",
       "    .dataframe tbody tr th:only-of-type {\n",
       "        vertical-align: middle;\n",
       "    }\n",
       "\n",
       "    .dataframe tbody tr th {\n",
       "        vertical-align: top;\n",
       "    }\n",
       "\n",
       "    .dataframe thead th {\n",
       "        text-align: right;\n",
       "    }\n",
       "</style>\n",
       "<table border=\"1\" class=\"dataframe\">\n",
       "  <thead>\n",
       "    <tr style=\"text-align: right;\">\n",
       "      <th></th>\n",
       "      <th>count_tutorial</th>\n",
       "      <th>total_users</th>\n",
       "      <th>purchase_users</th>\n",
       "    </tr>\n",
       "  </thead>\n",
       "  <tbody>\n",
       "    <tr>\n",
       "      <th>0</th>\n",
       "      <td>0</td>\n",
       "      <td>9676</td>\n",
       "      <td>153</td>\n",
       "    </tr>\n",
       "    <tr>\n",
       "      <th>1</th>\n",
       "      <td>1</td>\n",
       "      <td>8015</td>\n",
       "      <td>1143</td>\n",
       "    </tr>\n",
       "    <tr>\n",
       "      <th>2</th>\n",
       "      <td>2</td>\n",
       "      <td>1321</td>\n",
       "      <td>182</td>\n",
       "    </tr>\n",
       "    <tr>\n",
       "      <th>3</th>\n",
       "      <td>3</td>\n",
       "      <td>345</td>\n",
       "      <td>44</td>\n",
       "    </tr>\n",
       "    <tr>\n",
       "      <th>4</th>\n",
       "      <td>4</td>\n",
       "      <td>178</td>\n",
       "      <td>19</td>\n",
       "    </tr>\n",
       "    <tr>\n",
       "      <th>5</th>\n",
       "      <td>5</td>\n",
       "      <td>117</td>\n",
       "      <td>19</td>\n",
       "    </tr>\n",
       "    <tr>\n",
       "      <th>6</th>\n",
       "      <td>6</td>\n",
       "      <td>101</td>\n",
       "      <td>15</td>\n",
       "    </tr>\n",
       "    <tr>\n",
       "      <th>7</th>\n",
       "      <td>7</td>\n",
       "      <td>97</td>\n",
       "      <td>15</td>\n",
       "    </tr>\n",
       "    <tr>\n",
       "      <th>8</th>\n",
       "      <td>8</td>\n",
       "      <td>54</td>\n",
       "      <td>6</td>\n",
       "    </tr>\n",
       "    <tr>\n",
       "      <th>9</th>\n",
       "      <td>9</td>\n",
       "      <td>22</td>\n",
       "      <td>4</td>\n",
       "    </tr>\n",
       "  </tbody>\n",
       "</table>\n",
       "</div>"
      ],
      "text/plain": [
       "   count_tutorial  total_users  purchase_users\n",
       "0               0         9676             153\n",
       "1               1         8015            1143\n",
       "2               2         1321             182\n",
       "3               3          345              44\n",
       "4               4          178              19\n",
       "5               5          117              19\n",
       "6               6          101              15\n",
       "7               7           97              15\n",
       "8               8           54               6\n",
       "9               9           22               4"
      ]
     },
     "metadata": {},
     "output_type": "display_data"
    }
   ],
   "source": [
    "# Объединим получившиеся таблицы.\n",
    "\n",
    "total_count_tutorial = total_count_tutorial.merge(purchase_count_tutorial, on='count_tutorial')\n",
    "\n",
    "display(total_count_tutorial)\n"
   ]
  },
  {
   "cell_type": "markdown",
   "metadata": {},
   "source": [
    "Теперь нам нужно вычислить процент оплат от общего количества пользователей по каждой группе пользователей."
   ]
  },
  {
   "cell_type": "code",
   "execution_count": 59,
   "metadata": {},
   "outputs": [
    {
     "data": {
      "text/html": [
       "<div>\n",
       "<style scoped>\n",
       "    .dataframe tbody tr th:only-of-type {\n",
       "        vertical-align: middle;\n",
       "    }\n",
       "\n",
       "    .dataframe tbody tr th {\n",
       "        vertical-align: top;\n",
       "    }\n",
       "\n",
       "    .dataframe thead th {\n",
       "        text-align: right;\n",
       "    }\n",
       "</style>\n",
       "<table border=\"1\" class=\"dataframe\">\n",
       "  <thead>\n",
       "    <tr style=\"text-align: right;\">\n",
       "      <th></th>\n",
       "      <th>count_tutorial</th>\n",
       "      <th>total_users</th>\n",
       "      <th>purchase_users</th>\n",
       "      <th>percent_purchases</th>\n",
       "    </tr>\n",
       "  </thead>\n",
       "  <tbody>\n",
       "    <tr>\n",
       "      <th>0</th>\n",
       "      <td>0</td>\n",
       "      <td>9676</td>\n",
       "      <td>153</td>\n",
       "      <td>1.58</td>\n",
       "    </tr>\n",
       "    <tr>\n",
       "      <th>1</th>\n",
       "      <td>1</td>\n",
       "      <td>8015</td>\n",
       "      <td>1143</td>\n",
       "      <td>14.26</td>\n",
       "    </tr>\n",
       "    <tr>\n",
       "      <th>2</th>\n",
       "      <td>2</td>\n",
       "      <td>1321</td>\n",
       "      <td>182</td>\n",
       "      <td>13.78</td>\n",
       "    </tr>\n",
       "    <tr>\n",
       "      <th>3</th>\n",
       "      <td>3</td>\n",
       "      <td>345</td>\n",
       "      <td>44</td>\n",
       "      <td>12.75</td>\n",
       "    </tr>\n",
       "    <tr>\n",
       "      <th>4</th>\n",
       "      <td>4</td>\n",
       "      <td>178</td>\n",
       "      <td>19</td>\n",
       "      <td>10.67</td>\n",
       "    </tr>\n",
       "    <tr>\n",
       "      <th>5</th>\n",
       "      <td>5</td>\n",
       "      <td>117</td>\n",
       "      <td>19</td>\n",
       "      <td>16.24</td>\n",
       "    </tr>\n",
       "    <tr>\n",
       "      <th>6</th>\n",
       "      <td>6</td>\n",
       "      <td>101</td>\n",
       "      <td>15</td>\n",
       "      <td>14.85</td>\n",
       "    </tr>\n",
       "    <tr>\n",
       "      <th>7</th>\n",
       "      <td>7</td>\n",
       "      <td>97</td>\n",
       "      <td>15</td>\n",
       "      <td>15.46</td>\n",
       "    </tr>\n",
       "    <tr>\n",
       "      <th>8</th>\n",
       "      <td>8</td>\n",
       "      <td>54</td>\n",
       "      <td>6</td>\n",
       "      <td>11.11</td>\n",
       "    </tr>\n",
       "    <tr>\n",
       "      <th>9</th>\n",
       "      <td>9</td>\n",
       "      <td>22</td>\n",
       "      <td>4</td>\n",
       "      <td>18.18</td>\n",
       "    </tr>\n",
       "  </tbody>\n",
       "</table>\n",
       "</div>"
      ],
      "text/plain": [
       "   count_tutorial  total_users  purchase_users  percent_purchases\n",
       "0               0         9676             153               1.58\n",
       "1               1         8015            1143              14.26\n",
       "2               2         1321             182              13.78\n",
       "3               3          345              44              12.75\n",
       "4               4          178              19              10.67\n",
       "5               5          117              19              16.24\n",
       "6               6          101              15              14.85\n",
       "7               7           97              15              15.46\n",
       "8               8           54               6              11.11\n",
       "9               9           22               4              18.18"
      ]
     },
     "metadata": {},
     "output_type": "display_data"
    }
   ],
   "source": [
    "total_count_tutorial['percent_purchases'] = (total_count_tutorial['purchase_users']/total_count_tutorial['total_users'] * 100).round(2)\n",
    "\n",
    "display(total_count_tutorial)"
   ]
  },
  {
   "cell_type": "markdown",
   "metadata": {},
   "source": [
    "### 2.3. Добавим визуализацию."
   ]
  },
  {
   "cell_type": "markdown",
   "metadata": {},
   "source": [
    "Создадим 2 столбчатые диаграммы. Первая будет отражать процент оплат, совершенных пользователями от общего количества пользователей, а второй - распределение количества пользователей по числу оконченных ими обучений."
   ]
  },
  {
   "cell_type": "code",
   "execution_count": 60,
   "metadata": {},
   "outputs": [
    {
     "data": {
      "image/png": "[encoded data removed]",
      "text/plain": [
       "<Figure size 2000x600 with 2 Axes>"
      ]
     },
     "metadata": {},
     "output_type": "display_data"
    }
   ],
   "source": [
    "# Создадим 2 графика на одной фигуре с помощью метода subplots. \n",
    "\n",
    "fig, axes = plt.subplots(nrows=1, ncols=2, figsize=(20, 6))\n",
    "\n",
    "# График с процентом оплат.\n",
    "\n",
    "axes[0].bar(x=total_count_tutorial['count_tutorial'], \n",
    "            height= total_count_tutorial['percent_purchases'], \n",
    "            )\n",
    "axes[0].set_title('Зависимость количества оплат от количества обучений пользователей.')\n",
    "axes[0].set_xlabel('Количество обучений.')\n",
    "axes[0].set_ylabel('Процент оплат от общего количества пользователей.')\n",
    "\n",
    "# График с общим количеством пользователей.\n",
    "\n",
    "axes[1].bar(x=total_count_tutorial['count_tutorial'],\n",
    "            height= total_count_tutorial['total_users']\n",
    "            )\n",
    "axes[1].set_title('Распределение количества пользователей по числу оконченных ими обучений.')\n",
    "axes[1].set_xlabel('Количество обучений.')\n",
    "axes[1].set_ylabel('Количество пользователей, чел.');\n"
   ]
  },
  {
   "cell_type": "markdown",
   "metadata": {},
   "source": [
    "##### Первый график показывает влияние количества оконченных обучений на оплаты, совершенные пользователями. Мы видим прямую зависимость оплат от обучения.  \n",
    "#####  У пользователей, ни разу не окончивших обучение, очень низкий процент оплат(1.58%).\n",
    "  ##### У пользователей с оконченными обучениями этот процент гораздо выше(от 10.64% до 18.18%). Причем у пользователей с максимальным количеством обучений(9), этот процент самый высокий. Но это может быть связано с тем, что этих пользователей очень мало(22 человека) для адекватного анализа. "
   ]
  },
  {
   "cell_type": "markdown",
   "metadata": {},
   "source": [
    "#"
   ]
  },
  {
   "cell_type": "markdown",
   "metadata": {},
   "source": [
    "##### На втором графике все пользователи распределены по количеству пройденных ими обучений. Мы видим, что наибольшее количество пользователей(9676 чел.) обучение не проходят, меньшее количество пользователей(8015 чел.) проходят одно обучение, значительно меньше(от 1321 до 22 чел.) проходят 2 обучения и больше. "
   ]
  },
  {
   "cell_type": "markdown",
   "metadata": {},
   "source": [
    "#"
   ]
  },
  {
   "cell_type": "markdown",
   "metadata": {},
   "source": [
    "## 3. Определим, насколько прозрачен процесс взаимодействия с игрой."
   ]
  },
  {
   "cell_type": "markdown",
   "metadata": {},
   "source": [
    "Для этого мы выясним, как часто пользователи начинают обучение после выбора уровня сложности. (Это позволит оценить прозрачность процесса взаимодействия с игрой: если пользователи после выбора уровня сложности обращаются к обучению, значит, работа с приложением непонятна.)"
   ]
  },
  {
   "cell_type": "code",
   "execution_count": 61,
   "metadata": {},
   "outputs": [
    {
     "data": {
      "text/html": [
       "<div>\n",
       "<style scoped>\n",
       "    .dataframe tbody tr th:only-of-type {\n",
       "        vertical-align: middle;\n",
       "    }\n",
       "\n",
       "    .dataframe tbody tr th {\n",
       "        vertical-align: top;\n",
       "    }\n",
       "\n",
       "    .dataframe thead th {\n",
       "        text-align: right;\n",
       "    }\n",
       "</style>\n",
       "<table border=\"1\" class=\"dataframe\">\n",
       "  <thead>\n",
       "    <tr style=\"text-align: right;\">\n",
       "      <th></th>\n",
       "      <th>event_id</th>\n",
       "      <th>event_type</th>\n",
       "      <th>selected_level</th>\n",
       "      <th>start_time</th>\n",
       "      <th>tutorial_id</th>\n",
       "      <th>user_id</th>\n",
       "      <th>purchase_id</th>\n",
       "      <th>amount</th>\n",
       "    </tr>\n",
       "  </thead>\n",
       "  <tbody>\n",
       "    <tr>\n",
       "      <th>0</th>\n",
       "      <td>80308.0</td>\n",
       "      <td>registration</td>\n",
       "      <td>NaN</td>\n",
       "      <td>2018-01-01 03:48:40</td>\n",
       "      <td>NaN</td>\n",
       "      <td>27832</td>\n",
       "      <td>NaN</td>\n",
       "      <td>NaN</td>\n",
       "    </tr>\n",
       "    <tr>\n",
       "      <th>1</th>\n",
       "      <td>80309.0</td>\n",
       "      <td>registration</td>\n",
       "      <td>NaN</td>\n",
       "      <td>2018-01-01 04:07:25</td>\n",
       "      <td>NaN</td>\n",
       "      <td>27833</td>\n",
       "      <td>NaN</td>\n",
       "      <td>NaN</td>\n",
       "    </tr>\n",
       "    <tr>\n",
       "      <th>2</th>\n",
       "      <td>80310.0</td>\n",
       "      <td>registration</td>\n",
       "      <td>NaN</td>\n",
       "      <td>2018-01-01 08:35:10</td>\n",
       "      <td>NaN</td>\n",
       "      <td>27834</td>\n",
       "      <td>NaN</td>\n",
       "      <td>NaN</td>\n",
       "    </tr>\n",
       "    <tr>\n",
       "      <th>3</th>\n",
       "      <td>80311.0</td>\n",
       "      <td>registration</td>\n",
       "      <td>NaN</td>\n",
       "      <td>2018-01-01 11:54:47</td>\n",
       "      <td>NaN</td>\n",
       "      <td>27835</td>\n",
       "      <td>NaN</td>\n",
       "      <td>NaN</td>\n",
       "    </tr>\n",
       "    <tr>\n",
       "      <th>4</th>\n",
       "      <td>80312.0</td>\n",
       "      <td>registration</td>\n",
       "      <td>NaN</td>\n",
       "      <td>2018-01-01 13:28:07</td>\n",
       "      <td>NaN</td>\n",
       "      <td>27836</td>\n",
       "      <td>NaN</td>\n",
       "      <td>NaN</td>\n",
       "    </tr>\n",
       "    <tr>\n",
       "      <th>...</th>\n",
       "      <td>...</td>\n",
       "      <td>...</td>\n",
       "      <td>...</td>\n",
       "      <td>...</td>\n",
       "      <td>...</td>\n",
       "      <td>...</td>\n",
       "      <td>...</td>\n",
       "      <td>...</td>\n",
       "    </tr>\n",
       "    <tr>\n",
       "      <th>68554</th>\n",
       "      <td>NaN</td>\n",
       "      <td>purchase</td>\n",
       "      <td>NaN</td>\n",
       "      <td>2019-01-02 03:48:19</td>\n",
       "      <td>NaN</td>\n",
       "      <td>47498</td>\n",
       "      <td>18441.0</td>\n",
       "      <td>100.0</td>\n",
       "    </tr>\n",
       "    <tr>\n",
       "      <th>68555</th>\n",
       "      <td>NaN</td>\n",
       "      <td>purchase</td>\n",
       "      <td>NaN</td>\n",
       "      <td>2019-01-02 23:26:26</td>\n",
       "      <td>NaN</td>\n",
       "      <td>47647</td>\n",
       "      <td>18442.0</td>\n",
       "      <td>150.0</td>\n",
       "    </tr>\n",
       "    <tr>\n",
       "      <th>68556</th>\n",
       "      <td>NaN</td>\n",
       "      <td>purchase</td>\n",
       "      <td>NaN</td>\n",
       "      <td>2019-01-03 00:36:36</td>\n",
       "      <td>NaN</td>\n",
       "      <td>47554</td>\n",
       "      <td>18443.0</td>\n",
       "      <td>50.0</td>\n",
       "    </tr>\n",
       "    <tr>\n",
       "      <th>68557</th>\n",
       "      <td>NaN</td>\n",
       "      <td>purchase</td>\n",
       "      <td>NaN</td>\n",
       "      <td>2019-01-04 12:51:41</td>\n",
       "      <td>NaN</td>\n",
       "      <td>47742</td>\n",
       "      <td>18448.0</td>\n",
       "      <td>50.0</td>\n",
       "    </tr>\n",
       "    <tr>\n",
       "      <th>68558</th>\n",
       "      <td>NaN</td>\n",
       "      <td>purchase</td>\n",
       "      <td>NaN</td>\n",
       "      <td>2019-01-06 07:14:25</td>\n",
       "      <td>NaN</td>\n",
       "      <td>47732</td>\n",
       "      <td>18452.0</td>\n",
       "      <td>150.0</td>\n",
       "    </tr>\n",
       "  </tbody>\n",
       "</table>\n",
       "<p>68559 rows × 8 columns</p>\n",
       "</div>"
      ],
      "text/plain": [
       "       event_id    event_type selected_level          start_time  tutorial_id  \\\n",
       "0       80308.0  registration            NaN 2018-01-01 03:48:40          NaN   \n",
       "1       80309.0  registration            NaN 2018-01-01 04:07:25          NaN   \n",
       "2       80310.0  registration            NaN 2018-01-01 08:35:10          NaN   \n",
       "3       80311.0  registration            NaN 2018-01-01 11:54:47          NaN   \n",
       "4       80312.0  registration            NaN 2018-01-01 13:28:07          NaN   \n",
       "...         ...           ...            ...                 ...          ...   \n",
       "68554       NaN      purchase            NaN 2019-01-02 03:48:19          NaN   \n",
       "68555       NaN      purchase            NaN 2019-01-02 23:26:26          NaN   \n",
       "68556       NaN      purchase            NaN 2019-01-03 00:36:36          NaN   \n",
       "68557       NaN      purchase            NaN 2019-01-04 12:51:41          NaN   \n",
       "68558       NaN      purchase            NaN 2019-01-06 07:14:25          NaN   \n",
       "\n",
       "       user_id  purchase_id  amount  \n",
       "0        27832          NaN     NaN  \n",
       "1        27833          NaN     NaN  \n",
       "2        27834          NaN     NaN  \n",
       "3        27835          NaN     NaN  \n",
       "4        27836          NaN     NaN  \n",
       "...        ...          ...     ...  \n",
       "68554    47498      18441.0   100.0  \n",
       "68555    47647      18442.0   150.0  \n",
       "68556    47554      18443.0    50.0  \n",
       "68557    47742      18448.0    50.0  \n",
       "68558    47732      18452.0   150.0  \n",
       "\n",
       "[68559 rows x 8 columns]"
      ]
     },
     "metadata": {},
     "output_type": "display_data"
    }
   ],
   "source": [
    "# Копируем исходный датафрейм.\n",
    "\n",
    "total_events_df_3 = total_events_df.copy()\n",
    "display(total_events_df_3)\n"
   ]
  },
  {
   "cell_type": "markdown",
   "metadata": {},
   "source": [
    "Нам нужно вычислить разницу во времени между началом обучения и выбором уровня сложности по каждому пользователю. Если разница отрицательная, значит, пользователь начал обучение после выбора уровня сложности."
   ]
  },
  {
   "cell_type": "markdown",
   "metadata": {},
   "source": [
    "Для нашей цели нужно вычислить время последнего начала обучений пользователей и время их выбора уровня сложности."
   ]
  },
  {
   "cell_type": "markdown",
   "metadata": {},
   "source": [
    "### 3.1. Создадим датафрейм с последними началами обучений пользователей."
   ]
  },
  {
   "cell_type": "code",
   "execution_count": 62,
   "metadata": {},
   "outputs": [
    {
     "data": {
      "text/plain": [
       "np.float64(1.0)"
      ]
     },
     "execution_count": 62,
     "metadata": {},
     "output_type": "execute_result"
    }
   ],
   "source": [
    "# Фильтруем датафрейм по событию \"tutorial_start\".\n",
    "\n",
    "tutorial_start_time = total_events_df_3[total_events_df_3['event_type'] == 'tutorial_start']\n",
    "\n",
    "# Сортируем по времени в порядке убывания и оставляем только последнее событие для пользователя.\n",
    "\n",
    "\n",
    "tutorial_start_time = tutorial_start_time.sort_values('start_time', ascending=False).drop_duplicates('user_id')\n",
    "\n",
    "# Проверяем, что на пользователя приходится одно событие.\n",
    "\n",
    "tutorial_start_time['user_id'].value_counts().mean()\n"
   ]
  },
  {
   "cell_type": "code",
   "execution_count": 63,
   "metadata": {},
   "outputs": [
    {
     "data": {
      "text/html": [
       "<div>\n",
       "<style scoped>\n",
       "    .dataframe tbody tr th:only-of-type {\n",
       "        vertical-align: middle;\n",
       "    }\n",
       "\n",
       "    .dataframe tbody tr th {\n",
       "        vertical-align: top;\n",
       "    }\n",
       "\n",
       "    .dataframe thead th {\n",
       "        text-align: right;\n",
       "    }\n",
       "</style>\n",
       "<table border=\"1\" class=\"dataframe\">\n",
       "  <thead>\n",
       "    <tr style=\"text-align: right;\">\n",
       "      <th></th>\n",
       "      <th>user_id</th>\n",
       "      <th>tutorial_start_time</th>\n",
       "    </tr>\n",
       "  </thead>\n",
       "  <tbody>\n",
       "    <tr>\n",
       "      <th>66954</th>\n",
       "      <td>47756</td>\n",
       "      <td>2019-01-01 03:26:18</td>\n",
       "    </tr>\n",
       "    <tr>\n",
       "      <th>66952</th>\n",
       "      <td>47755</td>\n",
       "      <td>2019-01-01 00:08:14</td>\n",
       "    </tr>\n",
       "    <tr>\n",
       "      <th>66945</th>\n",
       "      <td>47753</td>\n",
       "      <td>2018-12-31 20:54:56</td>\n",
       "    </tr>\n",
       "    <tr>\n",
       "      <th>66943</th>\n",
       "      <td>47751</td>\n",
       "      <td>2018-12-31 19:38:14</td>\n",
       "    </tr>\n",
       "    <tr>\n",
       "      <th>66934</th>\n",
       "      <td>47747</td>\n",
       "      <td>2018-12-31 10:21:11</td>\n",
       "    </tr>\n",
       "  </tbody>\n",
       "</table>\n",
       "</div>"
      ],
      "text/plain": [
       "       user_id tutorial_start_time\n",
       "66954    47756 2019-01-01 03:26:18\n",
       "66952    47755 2019-01-01 00:08:14\n",
       "66945    47753 2018-12-31 20:54:56\n",
       "66943    47751 2018-12-31 19:38:14\n",
       "66934    47747 2018-12-31 10:21:11"
      ]
     },
     "execution_count": 63,
     "metadata": {},
     "output_type": "execute_result"
    }
   ],
   "source": [
    "# Оставляем только нужные нам столбцы и переименовываем столбец со временем.\n",
    "\n",
    "tutorial_start_time = tutorial_start_time[['user_id', 'start_time']].rename(\n",
    "    columns={'start_time': 'tutorial_start_time'}\n",
    ")\n",
    "\n",
    "tutorial_start_time.head()"
   ]
  },
  {
   "cell_type": "markdown",
   "metadata": {},
   "source": [
    "### 3.2. Cоздадим датафрейм с первым выбором уровня сложности для пользователей."
   ]
  },
  {
   "cell_type": "code",
   "execution_count": 64,
   "metadata": {},
   "outputs": [
    {
     "name": "stdout",
     "output_type": "stream",
     "text": [
      "1.0\n"
     ]
    }
   ],
   "source": [
    "# Фильтруем датафрейм по событию \"level_choice\".\n",
    "\n",
    "level_choice_time = total_events_df_3[total_events_df_3['event_type'] == 'level_choice']\n",
    "\n",
    "# Проверяем, сколько событий приходится на пользователя.\n",
    "\n",
    "print(level_choice_time['user_id'].value_counts().mean())"
   ]
  },
  {
   "cell_type": "markdown",
   "metadata": {},
   "source": [
    "Мы видим, что на пользователя приходится одно событие, значит, пользователи выбирают уровень сложности один раз."
   ]
  },
  {
   "cell_type": "code",
   "execution_count": 65,
   "metadata": {},
   "outputs": [
    {
     "data": {
      "text/html": [
       "<div>\n",
       "<style scoped>\n",
       "    .dataframe tbody tr th:only-of-type {\n",
       "        vertical-align: middle;\n",
       "    }\n",
       "\n",
       "    .dataframe tbody tr th {\n",
       "        vertical-align: top;\n",
       "    }\n",
       "\n",
       "    .dataframe thead th {\n",
       "        text-align: right;\n",
       "    }\n",
       "</style>\n",
       "<table border=\"1\" class=\"dataframe\">\n",
       "  <thead>\n",
       "    <tr style=\"text-align: right;\">\n",
       "      <th></th>\n",
       "      <th>user_id</th>\n",
       "      <th>level_choice_time</th>\n",
       "    </tr>\n",
       "  </thead>\n",
       "  <tbody>\n",
       "    <tr>\n",
       "      <th>19</th>\n",
       "      <td>27835</td>\n",
       "      <td>2018-01-01 20:37:22</td>\n",
       "    </tr>\n",
       "    <tr>\n",
       "      <th>23</th>\n",
       "      <td>27839</td>\n",
       "      <td>2018-01-01 22:37:50</td>\n",
       "    </tr>\n",
       "    <tr>\n",
       "      <th>36</th>\n",
       "      <td>27840</td>\n",
       "      <td>2018-01-02 05:18:42</td>\n",
       "    </tr>\n",
       "    <tr>\n",
       "      <th>38</th>\n",
       "      <td>27845</td>\n",
       "      <td>2018-01-02 06:19:18</td>\n",
       "    </tr>\n",
       "    <tr>\n",
       "      <th>45</th>\n",
       "      <td>27842</td>\n",
       "      <td>2018-01-02 08:46:03</td>\n",
       "    </tr>\n",
       "    <tr>\n",
       "      <th>...</th>\n",
       "      <td>...</td>\n",
       "      <td>...</td>\n",
       "    </tr>\n",
       "    <tr>\n",
       "      <th>66932</th>\n",
       "      <td>47732</td>\n",
       "      <td>2018-12-31 09:59:00</td>\n",
       "    </tr>\n",
       "    <tr>\n",
       "      <th>66937</th>\n",
       "      <td>47747</td>\n",
       "      <td>2018-12-31 12:24:40</td>\n",
       "    </tr>\n",
       "    <tr>\n",
       "      <th>66948</th>\n",
       "      <td>47753</td>\n",
       "      <td>2018-12-31 22:36:19</td>\n",
       "    </tr>\n",
       "    <tr>\n",
       "      <th>66956</th>\n",
       "      <td>47755</td>\n",
       "      <td>2019-01-01 05:04:52</td>\n",
       "    </tr>\n",
       "    <tr>\n",
       "      <th>66957</th>\n",
       "      <td>47756</td>\n",
       "      <td>2019-01-01 05:42:11</td>\n",
       "    </tr>\n",
       "  </tbody>\n",
       "</table>\n",
       "<p>8342 rows × 2 columns</p>\n",
       "</div>"
      ],
      "text/plain": [
       "       user_id   level_choice_time\n",
       "19       27835 2018-01-01 20:37:22\n",
       "23       27839 2018-01-01 22:37:50\n",
       "36       27840 2018-01-02 05:18:42\n",
       "38       27845 2018-01-02 06:19:18\n",
       "45       27842 2018-01-02 08:46:03\n",
       "...        ...                 ...\n",
       "66932    47732 2018-12-31 09:59:00\n",
       "66937    47747 2018-12-31 12:24:40\n",
       "66948    47753 2018-12-31 22:36:19\n",
       "66956    47755 2019-01-01 05:04:52\n",
       "66957    47756 2019-01-01 05:42:11\n",
       "\n",
       "[8342 rows x 2 columns]"
      ]
     },
     "metadata": {},
     "output_type": "display_data"
    }
   ],
   "source": [
    "# Оставляем только нужные столбцы и переименовываем время.\n",
    "\n",
    "level_choice_time = level_choice_time[['user_id', 'start_time']].rename(\n",
    "    columns={'start_time': 'level_choice_time'}\n",
    ")\n",
    "\n",
    "display(level_choice_time)\n",
    "\n"
   ]
  },
  {
   "cell_type": "markdown",
   "metadata": {},
   "source": [
    "### 3.3. Посчитаем разницу во времени между выбором уровня сложности и началом последнего обучения пользователей."
   ]
  },
  {
   "cell_type": "code",
   "execution_count": 66,
   "metadata": {},
   "outputs": [
    {
     "data": {
      "text/html": [
       "<div>\n",
       "<style scoped>\n",
       "    .dataframe tbody tr th:only-of-type {\n",
       "        vertical-align: middle;\n",
       "    }\n",
       "\n",
       "    .dataframe tbody tr th {\n",
       "        vertical-align: top;\n",
       "    }\n",
       "\n",
       "    .dataframe thead th {\n",
       "        text-align: right;\n",
       "    }\n",
       "</style>\n",
       "<table border=\"1\" class=\"dataframe\">\n",
       "  <thead>\n",
       "    <tr style=\"text-align: right;\">\n",
       "      <th></th>\n",
       "      <th>user_id</th>\n",
       "      <th>level_choice_time</th>\n",
       "      <th>tutorial_start_time</th>\n",
       "      <th>timedelta</th>\n",
       "    </tr>\n",
       "  </thead>\n",
       "  <tbody>\n",
       "    <tr>\n",
       "      <th>0</th>\n",
       "      <td>27835</td>\n",
       "      <td>2018-01-01 20:37:22</td>\n",
       "      <td>2018-01-01 15:00:51</td>\n",
       "      <td>-5.608611</td>\n",
       "    </tr>\n",
       "    <tr>\n",
       "      <th>1</th>\n",
       "      <td>27839</td>\n",
       "      <td>2018-01-01 22:37:50</td>\n",
       "      <td>2018-01-01 19:11:36</td>\n",
       "      <td>-3.437222</td>\n",
       "    </tr>\n",
       "    <tr>\n",
       "      <th>2</th>\n",
       "      <td>27840</td>\n",
       "      <td>2018-01-02 05:18:42</td>\n",
       "      <td>2018-01-02 02:07:07</td>\n",
       "      <td>-3.193056</td>\n",
       "    </tr>\n",
       "    <tr>\n",
       "      <th>3</th>\n",
       "      <td>27845</td>\n",
       "      <td>2018-01-02 06:19:18</td>\n",
       "      <td>2018-01-02 07:08:00</td>\n",
       "      <td>0.811667</td>\n",
       "    </tr>\n",
       "    <tr>\n",
       "      <th>4</th>\n",
       "      <td>27842</td>\n",
       "      <td>2018-01-02 08:46:03</td>\n",
       "      <td>2018-01-02 18:08:01</td>\n",
       "      <td>9.366111</td>\n",
       "    </tr>\n",
       "    <tr>\n",
       "      <th>...</th>\n",
       "      <td>...</td>\n",
       "      <td>...</td>\n",
       "      <td>...</td>\n",
       "      <td>...</td>\n",
       "    </tr>\n",
       "    <tr>\n",
       "      <th>8239</th>\n",
       "      <td>47732</td>\n",
       "      <td>2018-12-31 09:59:00</td>\n",
       "      <td>2018-12-31 07:14:38</td>\n",
       "      <td>-2.739444</td>\n",
       "    </tr>\n",
       "    <tr>\n",
       "      <th>8240</th>\n",
       "      <td>47747</td>\n",
       "      <td>2018-12-31 12:24:40</td>\n",
       "      <td>2018-12-31 10:21:11</td>\n",
       "      <td>-2.058056</td>\n",
       "    </tr>\n",
       "    <tr>\n",
       "      <th>8241</th>\n",
       "      <td>47753</td>\n",
       "      <td>2018-12-31 22:36:19</td>\n",
       "      <td>2018-12-31 20:54:56</td>\n",
       "      <td>-1.689722</td>\n",
       "    </tr>\n",
       "    <tr>\n",
       "      <th>8242</th>\n",
       "      <td>47755</td>\n",
       "      <td>2019-01-01 05:04:52</td>\n",
       "      <td>2019-01-01 00:08:14</td>\n",
       "      <td>-4.943889</td>\n",
       "    </tr>\n",
       "    <tr>\n",
       "      <th>8243</th>\n",
       "      <td>47756</td>\n",
       "      <td>2019-01-01 05:42:11</td>\n",
       "      <td>2019-01-01 03:26:18</td>\n",
       "      <td>-2.264722</td>\n",
       "    </tr>\n",
       "  </tbody>\n",
       "</table>\n",
       "<p>8244 rows × 4 columns</p>\n",
       "</div>"
      ],
      "text/plain": [
       "      user_id   level_choice_time tutorial_start_time  timedelta\n",
       "0       27835 2018-01-01 20:37:22 2018-01-01 15:00:51  -5.608611\n",
       "1       27839 2018-01-01 22:37:50 2018-01-01 19:11:36  -3.437222\n",
       "2       27840 2018-01-02 05:18:42 2018-01-02 02:07:07  -3.193056\n",
       "3       27845 2018-01-02 06:19:18 2018-01-02 07:08:00   0.811667\n",
       "4       27842 2018-01-02 08:46:03 2018-01-02 18:08:01   9.366111\n",
       "...       ...                 ...                 ...        ...\n",
       "8239    47732 2018-12-31 09:59:00 2018-12-31 07:14:38  -2.739444\n",
       "8240    47747 2018-12-31 12:24:40 2018-12-31 10:21:11  -2.058056\n",
       "8241    47753 2018-12-31 22:36:19 2018-12-31 20:54:56  -1.689722\n",
       "8242    47755 2019-01-01 05:04:52 2019-01-01 00:08:14  -4.943889\n",
       "8243    47756 2019-01-01 05:42:11 2019-01-01 03:26:18  -2.264722\n",
       "\n",
       "[8244 rows x 4 columns]"
      ]
     },
     "metadata": {},
     "output_type": "display_data"
    }
   ],
   "source": [
    "# Теперь соединим наши таблицы и создадим столбец с разницей во времени между выбором уровня сложности и последним началом обучения пользователей.\n",
    "\n",
    "difference_level_tutorial = level_choice_time.merge(tutorial_start_time, on='user_id', how='inner')\n",
    "\n",
    "difference_level_tutorial['timedelta'] = (\n",
    "    difference_level_tutorial['tutorial_start_time'] - difference_level_tutorial['level_choice_time']\n",
    ")\n",
    "\n",
    "# Для удобства подсчетов переведем время в часы.\n",
    "\n",
    "difference_level_tutorial['timedelta'] = difference_level_tutorial['timedelta'].apply(lambda x: x/pd.Timedelta('1 hour'))\n",
    "\n",
    "display(difference_level_tutorial)"
   ]
  },
  {
   "cell_type": "markdown",
   "metadata": {},
   "source": [
    "### 3.4. Посчитаем, какой процент пользователей(от общего числа) начинает обучение после выбора уровня сложности в игре."
   ]
  },
  {
   "cell_type": "markdown",
   "metadata": {},
   "source": [
    "Посмотрим общее количество пользователей."
   ]
  },
  {
   "cell_type": "code",
   "execution_count": 67,
   "metadata": {},
   "outputs": [
    {
     "name": "stdout",
     "output_type": "stream",
     "text": [
      "Общее количество пользователей: 19926\n"
     ]
    }
   ],
   "source": [
    "total_users_count = total_events_df_3['user_id'].nunique()\n",
    "print(\"Общее количество пользователей: {}\".format(total_users_count))"
   ]
  },
  {
   "cell_type": "markdown",
   "metadata": {},
   "source": [
    "Вычислим пользователей, начавших обучение после выбора уровны сложности."
   ]
  },
  {
   "cell_type": "code",
   "execution_count": 68,
   "metadata": {},
   "outputs": [
    {
     "name": "stdout",
     "output_type": "stream",
     "text": [
      "Количество пользователей, начавших обучение после выбора уровня сложности: 6858\n"
     ]
    }
   ],
   "source": [
    "after_users_count = difference_level_tutorial[difference_level_tutorial['timedelta'] < 0]['user_id'].nunique()\n",
    "print(\"Количество пользователей, начавших обучение после выбора уровня сложности: {}\".format(after_users_count))"
   ]
  },
  {
   "cell_type": "markdown",
   "metadata": {},
   "source": [
    "Наконец, посчитаем, какой процент пользователей(от общего числа) начинает обучение после выбора уровня сложности в игре."
   ]
  },
  {
   "cell_type": "code",
   "execution_count": 69,
   "metadata": {},
   "outputs": [
    {
     "name": "stdout",
     "output_type": "stream",
     "text": [
      "Процент пользователей(от общего количества), начавших обучение после выбора уровня сложности: 34.42%\n"
     ]
    }
   ],
   "source": [
    "percent_tutorial_after = after_users_count/total_users_count\n",
    "\n",
    "print(\"Процент пользователей(от общего количества), начавших обучение после выбора уровня сложности: {:.2%}\".format(percent_tutorial_after))"
   ]
  },
  {
   "cell_type": "markdown",
   "metadata": {},
   "source": [
    "##### Как мы видим, больше трети пользователей начинают обучение после выбора уровня сложности тренировок. \n",
    "##### Это говорит о том, что процесс взаимодействия с игрой недостаточно прост для пользователей."
   ]
  },
  {
   "cell_type": "markdown",
   "metadata": {},
   "source": [
    "----------------------------------------------------------------------------------------------------------------------------------------------------------------------------------------------------------------------------------------------------"
   ]
  },
  {
   "cell_type": "markdown",
   "metadata": {},
   "source": [
    "## **Выводы.**"
   ]
  },
  {
   "cell_type": "markdown",
   "metadata": {},
   "source": [
    "### **Вывод 1**(насколько обучение сокращает время прохождения этапов игры):"
   ]
  },
  {
   "cell_type": "markdown",
   "metadata": {},
   "source": [
    "- Пользователи, прошедшие обучение более, чем на 16 часов быстрее проходят этап игры между выбором пакета бесплатных вопросов и покупкой платных вопросов. \n",
    "\n",
    "- В прохождении других этапов игры значительной разницы не наблюдается.\n",
    "\n",
    "- Можно с уверенность сказать, что пройденное обучение значительно сокращает время до оплаты.\n"
   ]
  },
  {
   "cell_type": "markdown",
   "metadata": {},
   "source": [
    "### **Вывод 2**(существует ли зависимость между вероятностью оплаты вопросов и количеством обучений, которые начинал или завершал пользователь):"
   ]
  },
  {
   "cell_type": "markdown",
   "metadata": {},
   "source": [
    "- Существует прямая зависимость между обучением и оплатами.\n",
    "\n",
    "- У пользователей, ни разу не окончивших обучение, очень низкий процент оплат(1.58%).\n",
    "\n",
    "- У пользователей, прошедших хотя бы одно обучение, этот процент значительно выше(от 10.67% до 18.18%)\n",
    "\n",
    "- Между пользователями, прошедшими одно и более обучений, не видно прямой зависимости оплат от количества обучений. \n",
    "\n",
    "- Можно с уверенностью сказать, что обучение положительно влияет на оплату."
   ]
  },
  {
   "cell_type": "markdown",
   "metadata": {},
   "source": [
    "### **Вывод 3**( насколько прозрачен процесс взаимодействия с игрой):"
   ]
  },
  {
   "cell_type": "markdown",
   "metadata": {},
   "source": [
    "- 34.42% пользователей начинают обучение после выбора уровня сложности тренировок.\n",
    "\n",
    "- Это довольно высокий процент, он указывает на то, что процесс взаимодействия с игрой недостаточно понятен для пользователей."
   ]
  },
  {
   "cell_type": "markdown",
   "metadata": {},
   "source": [
    "## Рекомендации:"
   ]
  },
  {
   "cell_type": "markdown",
   "metadata": {},
   "source": [
    "- Максимально привлекать пользователей к обучению.\n",
    "\n",
    "- Сделать процесс взаимодействия с игрой более понятным для пользователей.\n"
   ]
  }
 ],
 "metadata": {
  "kernelspec": {
   "display_name": "Python 3",
   "language": "python",
   "name": "python3"
  },
  "language_info": {
   "codemirror_mode": {
    "name": "ipython",
    "version": 3
   },
   "file_extension": ".py",
   "mimetype": "text/x-python",
   "name": "python",
   "nbconvert_exporter": "python",
   "pygments_lexer": "ipython3",
   "version": "3.12.8"
  }
 },
 "nbformat": 4,
 "nbformat_minor": 2
}
